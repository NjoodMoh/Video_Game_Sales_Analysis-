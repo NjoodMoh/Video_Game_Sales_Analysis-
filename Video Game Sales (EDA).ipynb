{
 "cells": [
  {
   "cell_type": "markdown",
   "id": "66db51b9",
   "metadata": {},
   "source": [
    "# Video Game Sales Analysis "
   ]
  },
  {
   "cell_type": "markdown",
   "id": "8f909f55",
   "metadata": {},
   "source": [
    "## Appendex\n",
    "- Cick on the links:\n",
    "    >1. <a href=#imports>Imports</a>\n",
    "    >2. <a href=#loaddata>Load Data</a>\n",
    "    >3. <a href=#dataformating>Data Formating</a>\n",
    "    >4. <a href=#validat>Validate Assumption(Optional If exist)</a>\n",
    "    >5. <a href=#Expl>Exploratory Data Analysis (Uni-Variable)</a>\n",
    "    >6. <a href=#Explo>Exploratory Data Analysis (Multi-Variable_Relationship)</a>\n",
    "    >7. <a href=#Ques> Questions & Insights </a>\n",
    "    >8. <a href=#Conc> Conculsion </a>\n",
    "    "
   ]
  },
  {
   "cell_type": "markdown",
   "id": "1427dc74",
   "metadata": {},
   "source": [
    "## Abstract"
   ]
  },
  {
   "cell_type": "markdown",
   "id": "75c584b6",
   "metadata": {},
   "source": [
    "Who doesn't like video games? Video games have become a favorite pastime for most of us. Video \n",
    "games are a billion-dollar business and have been for many years. Now imagine being able to analyze \n",
    "the sales trends for the popular Nintendo games and many more such platforms. How cool would it be!\n"
   ]
  },
  {
   "cell_type": "markdown",
   "id": "34efa9df",
   "metadata": {},
   "source": [
    "## Design"
   ]
  },
  {
   "cell_type": "markdown",
   "id": "c4c1ffa1",
   "metadata": {},
   "source": [
    "Data provided in this project by Kaggle & data. world . In this module, we will be laying the foundation for our \n",
    "analysis by processing and exploring a large amount of data on video game sales. The dataset contains \n",
    "information regarding the sales of video games across various regions like North America, Europe, Japan \n",
    "and globally, while also giving information regarding the Names, Publishers and Platforms. This dataset \n",
    "has been made available thanks to Kaggle which is the home for many such datasets and competitions.\n"
   ]
  },
  {
   "cell_type": "markdown",
   "id": "3983c08f",
   "metadata": {},
   "source": [
    "# Problem Description "
   ]
  },
  {
   "cell_type": "markdown",
   "id": "301c313b",
   "metadata": {},
   "source": [
    "Every year globally, people spend huge amounts of money and time playing video games. Most people who engage in video game play  to do so voluntarily, because it is fun and they enjoy it. This makes it an intrinsically motivating activity.As a video game development company  we intend to developed a new video game based on the  highest user review , sales ,and  genre by regions ."
   ]
  },
  {
   "cell_type": "markdown",
   "id": "33a314de",
   "metadata": {},
   "source": [
    "# <a name='imports' > Import Libraries </a>"
   ]
  },
  {
   "cell_type": "code",
   "execution_count": 265,
   "id": "e27f442d",
   "metadata": {},
   "outputs": [],
   "source": [
    "#Importing libraries\n",
    "import numpy as np\n",
    "import pandas as pd\n",
    "import matplotlib.pyplot as plt\n",
    "import warnings\n",
    "warnings.filterwarnings(\"ignore\")\n",
    "import seaborn as sns \n",
    "# this statement allows the visuals to render within your Jupyter Notebook\n",
    "%matplotlib inline \n",
    "# You can configure the format of the images: ‘png’, ‘retina’, ‘jpeg’, ‘svg’, ‘pdf’.\n",
    "%config InlineBackend.figure_format = 'png'\n"
   ]
  },
  {
   "cell_type": "markdown",
   "id": "4646d3f6",
   "metadata": {},
   "source": [
    "# <a name='loaddata' > Load Data </a>"
   ]
  },
  {
   "cell_type": "code",
   "execution_count": 3,
   "id": "6d792d16",
   "metadata": {},
   "outputs": [],
   "source": [
    "df1 = pd.read_csv('VGglob.csv',na_values='tbd')"
   ]
  },
  {
   "cell_type": "code",
   "execution_count": 4,
   "id": "ace8bc87",
   "metadata": {},
   "outputs": [
    {
     "data": {
      "text/html": [
       "<div>\n",
       "<style scoped>\n",
       "    .dataframe tbody tr th:only-of-type {\n",
       "        vertical-align: middle;\n",
       "    }\n",
       "\n",
       "    .dataframe tbody tr th {\n",
       "        vertical-align: top;\n",
       "    }\n",
       "\n",
       "    .dataframe thead th {\n",
       "        text-align: right;\n",
       "    }\n",
       "</style>\n",
       "<table border=\"1\" class=\"dataframe\">\n",
       "  <thead>\n",
       "    <tr style=\"text-align: right;\">\n",
       "      <th></th>\n",
       "      <th>name</th>\n",
       "      <th>platform</th>\n",
       "      <th>release_date</th>\n",
       "      <th>summary</th>\n",
       "      <th>meta_score</th>\n",
       "      <th>user_review</th>\n",
       "    </tr>\n",
       "  </thead>\n",
       "  <tbody>\n",
       "    <tr>\n",
       "      <th>0</th>\n",
       "      <td>The Legend of Zelda: Ocarina of Time</td>\n",
       "      <td>Nintendo 64</td>\n",
       "      <td>23-Nov-98</td>\n",
       "      <td>As a young boy, Link is tricked by Ganondorf, ...</td>\n",
       "      <td>99</td>\n",
       "      <td>9.1</td>\n",
       "    </tr>\n",
       "    <tr>\n",
       "      <th>1</th>\n",
       "      <td>Tony Hawk's Pro Skater 2</td>\n",
       "      <td>PlayStation</td>\n",
       "      <td>20-Sep-00</td>\n",
       "      <td>As most major publishers' development efforts ...</td>\n",
       "      <td>98</td>\n",
       "      <td>7.4</td>\n",
       "    </tr>\n",
       "    <tr>\n",
       "      <th>2</th>\n",
       "      <td>Grand Theft Auto IV</td>\n",
       "      <td>PlayStation 3</td>\n",
       "      <td>29-Apr-08</td>\n",
       "      <td>[Metacritic's 2008 PS3 Game of the Year; Also ...</td>\n",
       "      <td>98</td>\n",
       "      <td>7.7</td>\n",
       "    </tr>\n",
       "    <tr>\n",
       "      <th>3</th>\n",
       "      <td>SoulCalibur</td>\n",
       "      <td>Dreamcast</td>\n",
       "      <td>8-Sep-99</td>\n",
       "      <td>This is a tale of souls and swords, transcendi...</td>\n",
       "      <td>98</td>\n",
       "      <td>8.4</td>\n",
       "    </tr>\n",
       "    <tr>\n",
       "      <th>4</th>\n",
       "      <td>Grand Theft Auto IV</td>\n",
       "      <td>Xbox 360</td>\n",
       "      <td>29-Apr-08</td>\n",
       "      <td>[Metacritic's 2008 Xbox 360 Game of the Year; ...</td>\n",
       "      <td>98</td>\n",
       "      <td>7.9</td>\n",
       "    </tr>\n",
       "  </tbody>\n",
       "</table>\n",
       "</div>"
      ],
      "text/plain": [
       "                                   name        platform release_date  \\\n",
       "0  The Legend of Zelda: Ocarina of Time     Nintendo 64    23-Nov-98   \n",
       "1              Tony Hawk's Pro Skater 2     PlayStation    20-Sep-00   \n",
       "2                   Grand Theft Auto IV   PlayStation 3    29-Apr-08   \n",
       "3                           SoulCalibur       Dreamcast     8-Sep-99   \n",
       "4                   Grand Theft Auto IV        Xbox 360    29-Apr-08   \n",
       "\n",
       "                                             summary  meta_score  user_review  \n",
       "0  As a young boy, Link is tricked by Ganondorf, ...          99          9.1  \n",
       "1  As most major publishers' development efforts ...          98          7.4  \n",
       "2  [Metacritic's 2008 PS3 Game of the Year; Also ...          98          7.7  \n",
       "3  This is a tale of souls and swords, transcendi...          98          8.4  \n",
       "4  [Metacritic's 2008 Xbox 360 Game of the Year; ...          98          7.9  "
      ]
     },
     "execution_count": 4,
     "metadata": {},
     "output_type": "execute_result"
    }
   ],
   "source": [
    "df1.head()"
   ]
  },
  {
   "cell_type": "code",
   "execution_count": 5,
   "id": "9556206c",
   "metadata": {},
   "outputs": [],
   "source": [
    "df2 = pd.read_csv('vgsalesGlobale.csv',na_values='tbd')"
   ]
  },
  {
   "cell_type": "code",
   "execution_count": 6,
   "id": "7396ad35",
   "metadata": {},
   "outputs": [
    {
     "data": {
      "text/html": [
       "<div>\n",
       "<style scoped>\n",
       "    .dataframe tbody tr th:only-of-type {\n",
       "        vertical-align: middle;\n",
       "    }\n",
       "\n",
       "    .dataframe tbody tr th {\n",
       "        vertical-align: top;\n",
       "    }\n",
       "\n",
       "    .dataframe thead th {\n",
       "        text-align: right;\n",
       "    }\n",
       "</style>\n",
       "<table border=\"1\" class=\"dataframe\">\n",
       "  <thead>\n",
       "    <tr style=\"text-align: right;\">\n",
       "      <th></th>\n",
       "      <th>Rank</th>\n",
       "      <th>Name</th>\n",
       "      <th>Platform</th>\n",
       "      <th>Year</th>\n",
       "      <th>Genre</th>\n",
       "      <th>Publisher</th>\n",
       "      <th>NA_Sales</th>\n",
       "      <th>EU_Sales</th>\n",
       "      <th>JP_Sales</th>\n",
       "      <th>Other_Sales</th>\n",
       "      <th>Global_Sales</th>\n",
       "    </tr>\n",
       "  </thead>\n",
       "  <tbody>\n",
       "    <tr>\n",
       "      <th>0</th>\n",
       "      <td>1</td>\n",
       "      <td>Wii Sports</td>\n",
       "      <td>Wii</td>\n",
       "      <td>2006.0</td>\n",
       "      <td>Sports</td>\n",
       "      <td>Nintendo</td>\n",
       "      <td>41.49</td>\n",
       "      <td>29.02</td>\n",
       "      <td>3.77</td>\n",
       "      <td>8.46</td>\n",
       "      <td>82.74</td>\n",
       "    </tr>\n",
       "    <tr>\n",
       "      <th>1</th>\n",
       "      <td>2</td>\n",
       "      <td>Super Mario Bros.</td>\n",
       "      <td>NES</td>\n",
       "      <td>1985.0</td>\n",
       "      <td>Platform</td>\n",
       "      <td>Nintendo</td>\n",
       "      <td>29.08</td>\n",
       "      <td>3.58</td>\n",
       "      <td>6.81</td>\n",
       "      <td>0.77</td>\n",
       "      <td>40.24</td>\n",
       "    </tr>\n",
       "    <tr>\n",
       "      <th>2</th>\n",
       "      <td>3</td>\n",
       "      <td>Mario Kart Wii</td>\n",
       "      <td>Wii</td>\n",
       "      <td>2008.0</td>\n",
       "      <td>Racing</td>\n",
       "      <td>Nintendo</td>\n",
       "      <td>15.85</td>\n",
       "      <td>12.88</td>\n",
       "      <td>3.79</td>\n",
       "      <td>3.31</td>\n",
       "      <td>35.82</td>\n",
       "    </tr>\n",
       "    <tr>\n",
       "      <th>3</th>\n",
       "      <td>4</td>\n",
       "      <td>Wii Sports Resort</td>\n",
       "      <td>Wii</td>\n",
       "      <td>2009.0</td>\n",
       "      <td>Sports</td>\n",
       "      <td>Nintendo</td>\n",
       "      <td>15.75</td>\n",
       "      <td>11.01</td>\n",
       "      <td>3.28</td>\n",
       "      <td>2.96</td>\n",
       "      <td>33.00</td>\n",
       "    </tr>\n",
       "    <tr>\n",
       "      <th>4</th>\n",
       "      <td>5</td>\n",
       "      <td>Pokemon Red/Pokemon Blue</td>\n",
       "      <td>GB</td>\n",
       "      <td>1996.0</td>\n",
       "      <td>Role-Playing</td>\n",
       "      <td>Nintendo</td>\n",
       "      <td>11.27</td>\n",
       "      <td>8.89</td>\n",
       "      <td>10.22</td>\n",
       "      <td>1.00</td>\n",
       "      <td>31.37</td>\n",
       "    </tr>\n",
       "  </tbody>\n",
       "</table>\n",
       "</div>"
      ],
      "text/plain": [
       "   Rank                      Name Platform    Year         Genre Publisher  \\\n",
       "0     1                Wii Sports      Wii  2006.0        Sports  Nintendo   \n",
       "1     2         Super Mario Bros.      NES  1985.0      Platform  Nintendo   \n",
       "2     3            Mario Kart Wii      Wii  2008.0        Racing  Nintendo   \n",
       "3     4         Wii Sports Resort      Wii  2009.0        Sports  Nintendo   \n",
       "4     5  Pokemon Red/Pokemon Blue       GB  1996.0  Role-Playing  Nintendo   \n",
       "\n",
       "   NA_Sales  EU_Sales  JP_Sales  Other_Sales  Global_Sales  \n",
       "0     41.49     29.02      3.77         8.46         82.74  \n",
       "1     29.08      3.58      6.81         0.77         40.24  \n",
       "2     15.85     12.88      3.79         3.31         35.82  \n",
       "3     15.75     11.01      3.28         2.96         33.00  \n",
       "4     11.27      8.89     10.22         1.00         31.37  "
      ]
     },
     "execution_count": 6,
     "metadata": {},
     "output_type": "execute_result"
    }
   ],
   "source": [
    "df2.head()"
   ]
  },
  {
   "cell_type": "markdown",
   "id": "c87c706c",
   "metadata": {},
   "source": [
    "# <a name='dataformating' > Data Formating </a>"
   ]
  },
  {
   "cell_type": "code",
   "execution_count": 7,
   "id": "c2d59be8",
   "metadata": {},
   "outputs": [],
   "source": [
    "df1.drop('summary', axis=1, inplace=True)"
   ]
  },
  {
   "cell_type": "code",
   "execution_count": 8,
   "id": "d8e06398",
   "metadata": {},
   "outputs": [
    {
     "data": {
      "text/html": [
       "<div>\n",
       "<style scoped>\n",
       "    .dataframe tbody tr th:only-of-type {\n",
       "        vertical-align: middle;\n",
       "    }\n",
       "\n",
       "    .dataframe tbody tr th {\n",
       "        vertical-align: top;\n",
       "    }\n",
       "\n",
       "    .dataframe thead th {\n",
       "        text-align: right;\n",
       "    }\n",
       "</style>\n",
       "<table border=\"1\" class=\"dataframe\">\n",
       "  <thead>\n",
       "    <tr style=\"text-align: right;\">\n",
       "      <th></th>\n",
       "      <th>name</th>\n",
       "      <th>platform</th>\n",
       "      <th>release_date</th>\n",
       "      <th>meta_score</th>\n",
       "      <th>user_review</th>\n",
       "    </tr>\n",
       "  </thead>\n",
       "  <tbody>\n",
       "    <tr>\n",
       "      <th>0</th>\n",
       "      <td>The Legend of Zelda: Ocarina of Time</td>\n",
       "      <td>Nintendo 64</td>\n",
       "      <td>23-Nov-98</td>\n",
       "      <td>99</td>\n",
       "      <td>9.1</td>\n",
       "    </tr>\n",
       "    <tr>\n",
       "      <th>1</th>\n",
       "      <td>Tony Hawk's Pro Skater 2</td>\n",
       "      <td>PlayStation</td>\n",
       "      <td>20-Sep-00</td>\n",
       "      <td>98</td>\n",
       "      <td>7.4</td>\n",
       "    </tr>\n",
       "    <tr>\n",
       "      <th>2</th>\n",
       "      <td>Grand Theft Auto IV</td>\n",
       "      <td>PlayStation 3</td>\n",
       "      <td>29-Apr-08</td>\n",
       "      <td>98</td>\n",
       "      <td>7.7</td>\n",
       "    </tr>\n",
       "    <tr>\n",
       "      <th>3</th>\n",
       "      <td>SoulCalibur</td>\n",
       "      <td>Dreamcast</td>\n",
       "      <td>8-Sep-99</td>\n",
       "      <td>98</td>\n",
       "      <td>8.4</td>\n",
       "    </tr>\n",
       "    <tr>\n",
       "      <th>4</th>\n",
       "      <td>Grand Theft Auto IV</td>\n",
       "      <td>Xbox 360</td>\n",
       "      <td>29-Apr-08</td>\n",
       "      <td>98</td>\n",
       "      <td>7.9</td>\n",
       "    </tr>\n",
       "  </tbody>\n",
       "</table>\n",
       "</div>"
      ],
      "text/plain": [
       "                                   name        platform release_date  \\\n",
       "0  The Legend of Zelda: Ocarina of Time     Nintendo 64    23-Nov-98   \n",
       "1              Tony Hawk's Pro Skater 2     PlayStation    20-Sep-00   \n",
       "2                   Grand Theft Auto IV   PlayStation 3    29-Apr-08   \n",
       "3                           SoulCalibur       Dreamcast     8-Sep-99   \n",
       "4                   Grand Theft Auto IV        Xbox 360    29-Apr-08   \n",
       "\n",
       "   meta_score  user_review  \n",
       "0          99          9.1  \n",
       "1          98          7.4  \n",
       "2          98          7.7  \n",
       "3          98          8.4  \n",
       "4          98          7.9  "
      ]
     },
     "execution_count": 8,
     "metadata": {},
     "output_type": "execute_result"
    }
   ],
   "source": [
    "df1.head()"
   ]
  },
  {
   "cell_type": "code",
   "execution_count": 9,
   "id": "44c6e157",
   "metadata": {},
   "outputs": [
    {
     "name": "stdout",
     "output_type": "stream",
     "text": [
      "<class 'pandas.core.frame.DataFrame'>\n",
      "RangeIndex: 18800 entries, 0 to 18799\n",
      "Data columns (total 5 columns):\n",
      " #   Column        Non-Null Count  Dtype  \n",
      "---  ------        --------------  -----  \n",
      " 0   name          18800 non-null  object \n",
      " 1   platform      18800 non-null  object \n",
      " 2   release_date  18800 non-null  object \n",
      " 3   meta_score    18800 non-null  int64  \n",
      " 4   user_review   17435 non-null  float64\n",
      "dtypes: float64(1), int64(1), object(3)\n",
      "memory usage: 734.5+ KB\n"
     ]
    }
   ],
   "source": [
    "df1.info()"
   ]
  },
  {
   "cell_type": "code",
   "execution_count": 10,
   "id": "22b06953",
   "metadata": {},
   "outputs": [],
   "source": [
    "df2.rename(columns = {'Name': 'name'}, inplace =True)"
   ]
  },
  {
   "cell_type": "code",
   "execution_count": 11,
   "id": "cd8d4aed",
   "metadata": {},
   "outputs": [
    {
     "name": "stdout",
     "output_type": "stream",
     "text": [
      "<class 'pandas.core.frame.DataFrame'>\n",
      "RangeIndex: 16598 entries, 0 to 16597\n",
      "Data columns (total 11 columns):\n",
      " #   Column        Non-Null Count  Dtype  \n",
      "---  ------        --------------  -----  \n",
      " 0   Rank          16598 non-null  int64  \n",
      " 1   name          16598 non-null  object \n",
      " 2   Platform      16598 non-null  object \n",
      " 3   Year          16327 non-null  float64\n",
      " 4   Genre         16598 non-null  object \n",
      " 5   Publisher     16540 non-null  object \n",
      " 6   NA_Sales      16598 non-null  float64\n",
      " 7   EU_Sales      16598 non-null  float64\n",
      " 8   JP_Sales      16598 non-null  float64\n",
      " 9   Other_Sales   16598 non-null  float64\n",
      " 10  Global_Sales  16598 non-null  float64\n",
      "dtypes: float64(6), int64(1), object(4)\n",
      "memory usage: 1.4+ MB\n"
     ]
    }
   ],
   "source": [
    "df2.info()"
   ]
  },
  {
   "cell_type": "markdown",
   "id": "0faa2f17",
   "metadata": {},
   "source": [
    "## Merge Data "
   ]
  },
  {
   "cell_type": "code",
   "execution_count": 12,
   "id": "197afec2",
   "metadata": {},
   "outputs": [],
   "source": [
    "df = pd.merge(df1, df2, on='name', how='inner')"
   ]
  },
  {
   "cell_type": "code",
   "execution_count": 13,
   "id": "78393e54",
   "metadata": {},
   "outputs": [
    {
     "data": {
      "text/html": [
       "<div>\n",
       "<style scoped>\n",
       "    .dataframe tbody tr th:only-of-type {\n",
       "        vertical-align: middle;\n",
       "    }\n",
       "\n",
       "    .dataframe tbody tr th {\n",
       "        vertical-align: top;\n",
       "    }\n",
       "\n",
       "    .dataframe thead th {\n",
       "        text-align: right;\n",
       "    }\n",
       "</style>\n",
       "<table border=\"1\" class=\"dataframe\">\n",
       "  <thead>\n",
       "    <tr style=\"text-align: right;\">\n",
       "      <th></th>\n",
       "      <th>name</th>\n",
       "      <th>platform</th>\n",
       "      <th>release_date</th>\n",
       "      <th>meta_score</th>\n",
       "      <th>user_review</th>\n",
       "      <th>Rank</th>\n",
       "      <th>Platform</th>\n",
       "      <th>Year</th>\n",
       "      <th>Genre</th>\n",
       "      <th>Publisher</th>\n",
       "      <th>NA_Sales</th>\n",
       "      <th>EU_Sales</th>\n",
       "      <th>JP_Sales</th>\n",
       "      <th>Other_Sales</th>\n",
       "      <th>Global_Sales</th>\n",
       "    </tr>\n",
       "  </thead>\n",
       "  <tbody>\n",
       "    <tr>\n",
       "      <th>0</th>\n",
       "      <td>The Legend of Zelda: Ocarina of Time</td>\n",
       "      <td>Nintendo 64</td>\n",
       "      <td>23-Nov-98</td>\n",
       "      <td>99</td>\n",
       "      <td>9.1</td>\n",
       "      <td>95</td>\n",
       "      <td>N64</td>\n",
       "      <td>1998.0</td>\n",
       "      <td>Action</td>\n",
       "      <td>Nintendo</td>\n",
       "      <td>4.10</td>\n",
       "      <td>1.89</td>\n",
       "      <td>1.45</td>\n",
       "      <td>0.16</td>\n",
       "      <td>7.60</td>\n",
       "    </tr>\n",
       "    <tr>\n",
       "      <th>1</th>\n",
       "      <td>The Legend of Zelda: Ocarina of Time</td>\n",
       "      <td>Nintendo 64</td>\n",
       "      <td>23-Nov-98</td>\n",
       "      <td>99</td>\n",
       "      <td>9.1</td>\n",
       "      <td>269</td>\n",
       "      <td>3DS</td>\n",
       "      <td>2011.0</td>\n",
       "      <td>Action</td>\n",
       "      <td>Nintendo</td>\n",
       "      <td>2.03</td>\n",
       "      <td>1.27</td>\n",
       "      <td>0.62</td>\n",
       "      <td>0.30</td>\n",
       "      <td>4.21</td>\n",
       "    </tr>\n",
       "    <tr>\n",
       "      <th>2</th>\n",
       "      <td>Tony Hawk's Pro Skater 2</td>\n",
       "      <td>PlayStation</td>\n",
       "      <td>20-Sep-00</td>\n",
       "      <td>98</td>\n",
       "      <td>7.4</td>\n",
       "      <td>226</td>\n",
       "      <td>PS</td>\n",
       "      <td>2000.0</td>\n",
       "      <td>Sports</td>\n",
       "      <td>Activision</td>\n",
       "      <td>3.05</td>\n",
       "      <td>1.41</td>\n",
       "      <td>0.02</td>\n",
       "      <td>0.20</td>\n",
       "      <td>4.68</td>\n",
       "    </tr>\n",
       "    <tr>\n",
       "      <th>3</th>\n",
       "      <td>Tony Hawk's Pro Skater 2</td>\n",
       "      <td>PlayStation</td>\n",
       "      <td>20-Sep-00</td>\n",
       "      <td>98</td>\n",
       "      <td>7.4</td>\n",
       "      <td>1713</td>\n",
       "      <td>GBA</td>\n",
       "      <td>2001.0</td>\n",
       "      <td>Sports</td>\n",
       "      <td>Activision</td>\n",
       "      <td>0.85</td>\n",
       "      <td>0.31</td>\n",
       "      <td>0.00</td>\n",
       "      <td>0.02</td>\n",
       "      <td>1.18</td>\n",
       "    </tr>\n",
       "    <tr>\n",
       "      <th>4</th>\n",
       "      <td>Tony Hawk's Pro Skater 2</td>\n",
       "      <td>PlayStation</td>\n",
       "      <td>20-Sep-00</td>\n",
       "      <td>98</td>\n",
       "      <td>7.4</td>\n",
       "      <td>2707</td>\n",
       "      <td>N64</td>\n",
       "      <td>2001.0</td>\n",
       "      <td>Sports</td>\n",
       "      <td>Activision</td>\n",
       "      <td>0.59</td>\n",
       "      <td>0.16</td>\n",
       "      <td>0.00</td>\n",
       "      <td>0.01</td>\n",
       "      <td>0.76</td>\n",
       "    </tr>\n",
       "  </tbody>\n",
       "</table>\n",
       "</div>"
      ],
      "text/plain": [
       "                                   name      platform release_date  \\\n",
       "0  The Legend of Zelda: Ocarina of Time   Nintendo 64    23-Nov-98   \n",
       "1  The Legend of Zelda: Ocarina of Time   Nintendo 64    23-Nov-98   \n",
       "2              Tony Hawk's Pro Skater 2   PlayStation    20-Sep-00   \n",
       "3              Tony Hawk's Pro Skater 2   PlayStation    20-Sep-00   \n",
       "4              Tony Hawk's Pro Skater 2   PlayStation    20-Sep-00   \n",
       "\n",
       "   meta_score  user_review  Rank Platform    Year   Genre   Publisher  \\\n",
       "0          99          9.1    95      N64  1998.0  Action    Nintendo   \n",
       "1          99          9.1   269      3DS  2011.0  Action    Nintendo   \n",
       "2          98          7.4   226       PS  2000.0  Sports  Activision   \n",
       "3          98          7.4  1713      GBA  2001.0  Sports  Activision   \n",
       "4          98          7.4  2707      N64  2001.0  Sports  Activision   \n",
       "\n",
       "   NA_Sales  EU_Sales  JP_Sales  Other_Sales  Global_Sales  \n",
       "0      4.10      1.89      1.45         0.16          7.60  \n",
       "1      2.03      1.27      0.62         0.30          4.21  \n",
       "2      3.05      1.41      0.02         0.20          4.68  \n",
       "3      0.85      0.31      0.00         0.02          1.18  \n",
       "4      0.59      0.16      0.00         0.01          0.76  "
      ]
     },
     "execution_count": 13,
     "metadata": {},
     "output_type": "execute_result"
    }
   ],
   "source": [
    "df.head()"
   ]
  },
  {
   "cell_type": "code",
   "execution_count": 14,
   "id": "4d33ed2e",
   "metadata": {},
   "outputs": [
    {
     "data": {
      "text/html": [
       "<div>\n",
       "<style scoped>\n",
       "    .dataframe tbody tr th:only-of-type {\n",
       "        vertical-align: middle;\n",
       "    }\n",
       "\n",
       "    .dataframe tbody tr th {\n",
       "        vertical-align: top;\n",
       "    }\n",
       "\n",
       "    .dataframe thead th {\n",
       "        text-align: right;\n",
       "    }\n",
       "</style>\n",
       "<table border=\"1\" class=\"dataframe\">\n",
       "  <thead>\n",
       "    <tr style=\"text-align: right;\">\n",
       "      <th></th>\n",
       "      <th>name</th>\n",
       "      <th>platform</th>\n",
       "      <th>release_date</th>\n",
       "      <th>meta_score</th>\n",
       "      <th>user_review</th>\n",
       "      <th>Rank</th>\n",
       "      <th>Platform</th>\n",
       "      <th>Year</th>\n",
       "      <th>Genre</th>\n",
       "      <th>Publisher</th>\n",
       "      <th>NA_Sales</th>\n",
       "      <th>EU_Sales</th>\n",
       "      <th>JP_Sales</th>\n",
       "      <th>Other_Sales</th>\n",
       "      <th>Global_Sales</th>\n",
       "    </tr>\n",
       "  </thead>\n",
       "  <tbody>\n",
       "    <tr>\n",
       "      <th>0</th>\n",
       "      <td>The Legend of Zelda: Ocarina of Time</td>\n",
       "      <td>Nintendo 64</td>\n",
       "      <td>23-Nov-98</td>\n",
       "      <td>99</td>\n",
       "      <td>9.1</td>\n",
       "      <td>95</td>\n",
       "      <td>N64</td>\n",
       "      <td>1998.0</td>\n",
       "      <td>Action</td>\n",
       "      <td>Nintendo</td>\n",
       "      <td>4.10</td>\n",
       "      <td>1.89</td>\n",
       "      <td>1.45</td>\n",
       "      <td>0.16</td>\n",
       "      <td>7.60</td>\n",
       "    </tr>\n",
       "    <tr>\n",
       "      <th>1</th>\n",
       "      <td>The Legend of Zelda: Ocarina of Time</td>\n",
       "      <td>Nintendo 64</td>\n",
       "      <td>23-Nov-98</td>\n",
       "      <td>99</td>\n",
       "      <td>9.1</td>\n",
       "      <td>269</td>\n",
       "      <td>3DS</td>\n",
       "      <td>2011.0</td>\n",
       "      <td>Action</td>\n",
       "      <td>Nintendo</td>\n",
       "      <td>2.03</td>\n",
       "      <td>1.27</td>\n",
       "      <td>0.62</td>\n",
       "      <td>0.30</td>\n",
       "      <td>4.21</td>\n",
       "    </tr>\n",
       "    <tr>\n",
       "      <th>2</th>\n",
       "      <td>Tony Hawk's Pro Skater 2</td>\n",
       "      <td>PlayStation</td>\n",
       "      <td>20-Sep-00</td>\n",
       "      <td>98</td>\n",
       "      <td>7.4</td>\n",
       "      <td>226</td>\n",
       "      <td>PS</td>\n",
       "      <td>2000.0</td>\n",
       "      <td>Sports</td>\n",
       "      <td>Activision</td>\n",
       "      <td>3.05</td>\n",
       "      <td>1.41</td>\n",
       "      <td>0.02</td>\n",
       "      <td>0.20</td>\n",
       "      <td>4.68</td>\n",
       "    </tr>\n",
       "    <tr>\n",
       "      <th>3</th>\n",
       "      <td>Tony Hawk's Pro Skater 2</td>\n",
       "      <td>PlayStation</td>\n",
       "      <td>20-Sep-00</td>\n",
       "      <td>98</td>\n",
       "      <td>7.4</td>\n",
       "      <td>1713</td>\n",
       "      <td>GBA</td>\n",
       "      <td>2001.0</td>\n",
       "      <td>Sports</td>\n",
       "      <td>Activision</td>\n",
       "      <td>0.85</td>\n",
       "      <td>0.31</td>\n",
       "      <td>0.00</td>\n",
       "      <td>0.02</td>\n",
       "      <td>1.18</td>\n",
       "    </tr>\n",
       "    <tr>\n",
       "      <th>4</th>\n",
       "      <td>Tony Hawk's Pro Skater 2</td>\n",
       "      <td>PlayStation</td>\n",
       "      <td>20-Sep-00</td>\n",
       "      <td>98</td>\n",
       "      <td>7.4</td>\n",
       "      <td>2707</td>\n",
       "      <td>N64</td>\n",
       "      <td>2001.0</td>\n",
       "      <td>Sports</td>\n",
       "      <td>Activision</td>\n",
       "      <td>0.59</td>\n",
       "      <td>0.16</td>\n",
       "      <td>0.00</td>\n",
       "      <td>0.01</td>\n",
       "      <td>0.76</td>\n",
       "    </tr>\n",
       "    <tr>\n",
       "      <th>5</th>\n",
       "      <td>Tony Hawk's Pro Skater 2</td>\n",
       "      <td>Dreamcast</td>\n",
       "      <td>6-Nov-00</td>\n",
       "      <td>97</td>\n",
       "      <td>6.2</td>\n",
       "      <td>226</td>\n",
       "      <td>PS</td>\n",
       "      <td>2000.0</td>\n",
       "      <td>Sports</td>\n",
       "      <td>Activision</td>\n",
       "      <td>3.05</td>\n",
       "      <td>1.41</td>\n",
       "      <td>0.02</td>\n",
       "      <td>0.20</td>\n",
       "      <td>4.68</td>\n",
       "    </tr>\n",
       "    <tr>\n",
       "      <th>6</th>\n",
       "      <td>Tony Hawk's Pro Skater 2</td>\n",
       "      <td>Dreamcast</td>\n",
       "      <td>6-Nov-00</td>\n",
       "      <td>97</td>\n",
       "      <td>6.2</td>\n",
       "      <td>1713</td>\n",
       "      <td>GBA</td>\n",
       "      <td>2001.0</td>\n",
       "      <td>Sports</td>\n",
       "      <td>Activision</td>\n",
       "      <td>0.85</td>\n",
       "      <td>0.31</td>\n",
       "      <td>0.00</td>\n",
       "      <td>0.02</td>\n",
       "      <td>1.18</td>\n",
       "    </tr>\n",
       "    <tr>\n",
       "      <th>7</th>\n",
       "      <td>Tony Hawk's Pro Skater 2</td>\n",
       "      <td>Dreamcast</td>\n",
       "      <td>6-Nov-00</td>\n",
       "      <td>97</td>\n",
       "      <td>6.2</td>\n",
       "      <td>2707</td>\n",
       "      <td>N64</td>\n",
       "      <td>2001.0</td>\n",
       "      <td>Sports</td>\n",
       "      <td>Activision</td>\n",
       "      <td>0.59</td>\n",
       "      <td>0.16</td>\n",
       "      <td>0.00</td>\n",
       "      <td>0.01</td>\n",
       "      <td>0.76</td>\n",
       "    </tr>\n",
       "    <tr>\n",
       "      <th>8</th>\n",
       "      <td>Tony Hawk's Pro Skater 2</td>\n",
       "      <td>Game Boy Advance</td>\n",
       "      <td>30-May-01</td>\n",
       "      <td>95</td>\n",
       "      <td>6.9</td>\n",
       "      <td>226</td>\n",
       "      <td>PS</td>\n",
       "      <td>2000.0</td>\n",
       "      <td>Sports</td>\n",
       "      <td>Activision</td>\n",
       "      <td>3.05</td>\n",
       "      <td>1.41</td>\n",
       "      <td>0.02</td>\n",
       "      <td>0.20</td>\n",
       "      <td>4.68</td>\n",
       "    </tr>\n",
       "    <tr>\n",
       "      <th>9</th>\n",
       "      <td>Tony Hawk's Pro Skater 2</td>\n",
       "      <td>Game Boy Advance</td>\n",
       "      <td>30-May-01</td>\n",
       "      <td>95</td>\n",
       "      <td>6.9</td>\n",
       "      <td>1713</td>\n",
       "      <td>GBA</td>\n",
       "      <td>2001.0</td>\n",
       "      <td>Sports</td>\n",
       "      <td>Activision</td>\n",
       "      <td>0.85</td>\n",
       "      <td>0.31</td>\n",
       "      <td>0.00</td>\n",
       "      <td>0.02</td>\n",
       "      <td>1.18</td>\n",
       "    </tr>\n",
       "    <tr>\n",
       "      <th>10</th>\n",
       "      <td>Tony Hawk's Pro Skater 2</td>\n",
       "      <td>Game Boy Advance</td>\n",
       "      <td>30-May-01</td>\n",
       "      <td>95</td>\n",
       "      <td>6.9</td>\n",
       "      <td>2707</td>\n",
       "      <td>N64</td>\n",
       "      <td>2001.0</td>\n",
       "      <td>Sports</td>\n",
       "      <td>Activision</td>\n",
       "      <td>0.59</td>\n",
       "      <td>0.16</td>\n",
       "      <td>0.00</td>\n",
       "      <td>0.01</td>\n",
       "      <td>0.76</td>\n",
       "    </tr>\n",
       "    <tr>\n",
       "      <th>11</th>\n",
       "      <td>Tony Hawk's Pro Skater 2</td>\n",
       "      <td>PC</td>\n",
       "      <td>25-Oct-00</td>\n",
       "      <td>91</td>\n",
       "      <td>8.5</td>\n",
       "      <td>226</td>\n",
       "      <td>PS</td>\n",
       "      <td>2000.0</td>\n",
       "      <td>Sports</td>\n",
       "      <td>Activision</td>\n",
       "      <td>3.05</td>\n",
       "      <td>1.41</td>\n",
       "      <td>0.02</td>\n",
       "      <td>0.20</td>\n",
       "      <td>4.68</td>\n",
       "    </tr>\n",
       "    <tr>\n",
       "      <th>12</th>\n",
       "      <td>Tony Hawk's Pro Skater 2</td>\n",
       "      <td>PC</td>\n",
       "      <td>25-Oct-00</td>\n",
       "      <td>91</td>\n",
       "      <td>8.5</td>\n",
       "      <td>1713</td>\n",
       "      <td>GBA</td>\n",
       "      <td>2001.0</td>\n",
       "      <td>Sports</td>\n",
       "      <td>Activision</td>\n",
       "      <td>0.85</td>\n",
       "      <td>0.31</td>\n",
       "      <td>0.00</td>\n",
       "      <td>0.02</td>\n",
       "      <td>1.18</td>\n",
       "    </tr>\n",
       "    <tr>\n",
       "      <th>13</th>\n",
       "      <td>Tony Hawk's Pro Skater 2</td>\n",
       "      <td>PC</td>\n",
       "      <td>25-Oct-00</td>\n",
       "      <td>91</td>\n",
       "      <td>8.5</td>\n",
       "      <td>2707</td>\n",
       "      <td>N64</td>\n",
       "      <td>2001.0</td>\n",
       "      <td>Sports</td>\n",
       "      <td>Activision</td>\n",
       "      <td>0.59</td>\n",
       "      <td>0.16</td>\n",
       "      <td>0.00</td>\n",
       "      <td>0.01</td>\n",
       "      <td>0.76</td>\n",
       "    </tr>\n",
       "    <tr>\n",
       "      <th>14</th>\n",
       "      <td>Tony Hawk's Pro Skater 2</td>\n",
       "      <td>Nintendo 64</td>\n",
       "      <td>21-Aug-01</td>\n",
       "      <td>84</td>\n",
       "      <td>8.8</td>\n",
       "      <td>226</td>\n",
       "      <td>PS</td>\n",
       "      <td>2000.0</td>\n",
       "      <td>Sports</td>\n",
       "      <td>Activision</td>\n",
       "      <td>3.05</td>\n",
       "      <td>1.41</td>\n",
       "      <td>0.02</td>\n",
       "      <td>0.20</td>\n",
       "      <td>4.68</td>\n",
       "    </tr>\n",
       "    <tr>\n",
       "      <th>15</th>\n",
       "      <td>Tony Hawk's Pro Skater 2</td>\n",
       "      <td>Nintendo 64</td>\n",
       "      <td>21-Aug-01</td>\n",
       "      <td>84</td>\n",
       "      <td>8.8</td>\n",
       "      <td>1713</td>\n",
       "      <td>GBA</td>\n",
       "      <td>2001.0</td>\n",
       "      <td>Sports</td>\n",
       "      <td>Activision</td>\n",
       "      <td>0.85</td>\n",
       "      <td>0.31</td>\n",
       "      <td>0.00</td>\n",
       "      <td>0.02</td>\n",
       "      <td>1.18</td>\n",
       "    </tr>\n",
       "    <tr>\n",
       "      <th>16</th>\n",
       "      <td>Tony Hawk's Pro Skater 2</td>\n",
       "      <td>Nintendo 64</td>\n",
       "      <td>21-Aug-01</td>\n",
       "      <td>84</td>\n",
       "      <td>8.8</td>\n",
       "      <td>2707</td>\n",
       "      <td>N64</td>\n",
       "      <td>2001.0</td>\n",
       "      <td>Sports</td>\n",
       "      <td>Activision</td>\n",
       "      <td>0.59</td>\n",
       "      <td>0.16</td>\n",
       "      <td>0.00</td>\n",
       "      <td>0.01</td>\n",
       "      <td>0.76</td>\n",
       "    </tr>\n",
       "    <tr>\n",
       "      <th>17</th>\n",
       "      <td>Grand Theft Auto IV</td>\n",
       "      <td>PlayStation 3</td>\n",
       "      <td>29-Apr-08</td>\n",
       "      <td>98</td>\n",
       "      <td>7.7</td>\n",
       "      <td>52</td>\n",
       "      <td>X360</td>\n",
       "      <td>2008.0</td>\n",
       "      <td>Action</td>\n",
       "      <td>Take-Two Interactive</td>\n",
       "      <td>6.76</td>\n",
       "      <td>3.10</td>\n",
       "      <td>0.14</td>\n",
       "      <td>1.03</td>\n",
       "      <td>11.02</td>\n",
       "    </tr>\n",
       "    <tr>\n",
       "      <th>18</th>\n",
       "      <td>Grand Theft Auto IV</td>\n",
       "      <td>PlayStation 3</td>\n",
       "      <td>29-Apr-08</td>\n",
       "      <td>98</td>\n",
       "      <td>7.7</td>\n",
       "      <td>57</td>\n",
       "      <td>PS3</td>\n",
       "      <td>2008.0</td>\n",
       "      <td>Action</td>\n",
       "      <td>Take-Two Interactive</td>\n",
       "      <td>4.76</td>\n",
       "      <td>3.76</td>\n",
       "      <td>0.44</td>\n",
       "      <td>1.62</td>\n",
       "      <td>10.57</td>\n",
       "    </tr>\n",
       "    <tr>\n",
       "      <th>19</th>\n",
       "      <td>Grand Theft Auto IV</td>\n",
       "      <td>PlayStation 3</td>\n",
       "      <td>29-Apr-08</td>\n",
       "      <td>98</td>\n",
       "      <td>7.7</td>\n",
       "      <td>2359</td>\n",
       "      <td>PC</td>\n",
       "      <td>2008.0</td>\n",
       "      <td>Action</td>\n",
       "      <td>Take-Two Interactive</td>\n",
       "      <td>0.01</td>\n",
       "      <td>0.79</td>\n",
       "      <td>0.00</td>\n",
       "      <td>0.08</td>\n",
       "      <td>0.88</td>\n",
       "    </tr>\n",
       "  </tbody>\n",
       "</table>\n",
       "</div>"
      ],
      "text/plain": [
       "                                    name           platform release_date  \\\n",
       "0   The Legend of Zelda: Ocarina of Time        Nintendo 64    23-Nov-98   \n",
       "1   The Legend of Zelda: Ocarina of Time        Nintendo 64    23-Nov-98   \n",
       "2               Tony Hawk's Pro Skater 2        PlayStation    20-Sep-00   \n",
       "3               Tony Hawk's Pro Skater 2        PlayStation    20-Sep-00   \n",
       "4               Tony Hawk's Pro Skater 2        PlayStation    20-Sep-00   \n",
       "5               Tony Hawk's Pro Skater 2          Dreamcast     6-Nov-00   \n",
       "6               Tony Hawk's Pro Skater 2          Dreamcast     6-Nov-00   \n",
       "7               Tony Hawk's Pro Skater 2          Dreamcast     6-Nov-00   \n",
       "8               Tony Hawk's Pro Skater 2   Game Boy Advance    30-May-01   \n",
       "9               Tony Hawk's Pro Skater 2   Game Boy Advance    30-May-01   \n",
       "10              Tony Hawk's Pro Skater 2   Game Boy Advance    30-May-01   \n",
       "11              Tony Hawk's Pro Skater 2                 PC    25-Oct-00   \n",
       "12              Tony Hawk's Pro Skater 2                 PC    25-Oct-00   \n",
       "13              Tony Hawk's Pro Skater 2                 PC    25-Oct-00   \n",
       "14              Tony Hawk's Pro Skater 2        Nintendo 64    21-Aug-01   \n",
       "15              Tony Hawk's Pro Skater 2        Nintendo 64    21-Aug-01   \n",
       "16              Tony Hawk's Pro Skater 2        Nintendo 64    21-Aug-01   \n",
       "17                   Grand Theft Auto IV      PlayStation 3    29-Apr-08   \n",
       "18                   Grand Theft Auto IV      PlayStation 3    29-Apr-08   \n",
       "19                   Grand Theft Auto IV      PlayStation 3    29-Apr-08   \n",
       "\n",
       "    meta_score  user_review  Rank Platform    Year   Genre  \\\n",
       "0           99          9.1    95      N64  1998.0  Action   \n",
       "1           99          9.1   269      3DS  2011.0  Action   \n",
       "2           98          7.4   226       PS  2000.0  Sports   \n",
       "3           98          7.4  1713      GBA  2001.0  Sports   \n",
       "4           98          7.4  2707      N64  2001.0  Sports   \n",
       "5           97          6.2   226       PS  2000.0  Sports   \n",
       "6           97          6.2  1713      GBA  2001.0  Sports   \n",
       "7           97          6.2  2707      N64  2001.0  Sports   \n",
       "8           95          6.9   226       PS  2000.0  Sports   \n",
       "9           95          6.9  1713      GBA  2001.0  Sports   \n",
       "10          95          6.9  2707      N64  2001.0  Sports   \n",
       "11          91          8.5   226       PS  2000.0  Sports   \n",
       "12          91          8.5  1713      GBA  2001.0  Sports   \n",
       "13          91          8.5  2707      N64  2001.0  Sports   \n",
       "14          84          8.8   226       PS  2000.0  Sports   \n",
       "15          84          8.8  1713      GBA  2001.0  Sports   \n",
       "16          84          8.8  2707      N64  2001.0  Sports   \n",
       "17          98          7.7    52     X360  2008.0  Action   \n",
       "18          98          7.7    57      PS3  2008.0  Action   \n",
       "19          98          7.7  2359       PC  2008.0  Action   \n",
       "\n",
       "               Publisher  NA_Sales  EU_Sales  JP_Sales  Other_Sales  \\\n",
       "0               Nintendo      4.10      1.89      1.45         0.16   \n",
       "1               Nintendo      2.03      1.27      0.62         0.30   \n",
       "2             Activision      3.05      1.41      0.02         0.20   \n",
       "3             Activision      0.85      0.31      0.00         0.02   \n",
       "4             Activision      0.59      0.16      0.00         0.01   \n",
       "5             Activision      3.05      1.41      0.02         0.20   \n",
       "6             Activision      0.85      0.31      0.00         0.02   \n",
       "7             Activision      0.59      0.16      0.00         0.01   \n",
       "8             Activision      3.05      1.41      0.02         0.20   \n",
       "9             Activision      0.85      0.31      0.00         0.02   \n",
       "10            Activision      0.59      0.16      0.00         0.01   \n",
       "11            Activision      3.05      1.41      0.02         0.20   \n",
       "12            Activision      0.85      0.31      0.00         0.02   \n",
       "13            Activision      0.59      0.16      0.00         0.01   \n",
       "14            Activision      3.05      1.41      0.02         0.20   \n",
       "15            Activision      0.85      0.31      0.00         0.02   \n",
       "16            Activision      0.59      0.16      0.00         0.01   \n",
       "17  Take-Two Interactive      6.76      3.10      0.14         1.03   \n",
       "18  Take-Two Interactive      4.76      3.76      0.44         1.62   \n",
       "19  Take-Two Interactive      0.01      0.79      0.00         0.08   \n",
       "\n",
       "    Global_Sales  \n",
       "0           7.60  \n",
       "1           4.21  \n",
       "2           4.68  \n",
       "3           1.18  \n",
       "4           0.76  \n",
       "5           4.68  \n",
       "6           1.18  \n",
       "7           0.76  \n",
       "8           4.68  \n",
       "9           1.18  \n",
       "10          0.76  \n",
       "11          4.68  \n",
       "12          1.18  \n",
       "13          0.76  \n",
       "14          4.68  \n",
       "15          1.18  \n",
       "16          0.76  \n",
       "17         11.02  \n",
       "18         10.57  \n",
       "19          0.88  "
      ]
     },
     "execution_count": 14,
     "metadata": {},
     "output_type": "execute_result"
    }
   ],
   "source": [
    "df.head(20)"
   ]
  },
  {
   "cell_type": "code",
   "execution_count": 368,
   "id": "41082213",
   "metadata": {},
   "outputs": [
    {
     "data": {
      "text/plain": [
       "(12737, 15)"
      ]
     },
     "execution_count": 368,
     "metadata": {},
     "output_type": "execute_result"
    }
   ],
   "source": [
    "df.shape"
   ]
  },
  {
   "cell_type": "markdown",
   "id": "08400f05",
   "metadata": {},
   "source": [
    "# Check null value "
   ]
  },
  {
   "cell_type": "code",
   "execution_count": 15,
   "id": "0ce37c71",
   "metadata": {
    "scrolled": true
   },
   "outputs": [
    {
     "data": {
      "text/plain": [
       "name               0\n",
       "platform           0\n",
       "release_date       0\n",
       "meta_score         0\n",
       "user_review     1079\n",
       "Rank               0\n",
       "Platform           0\n",
       "Year             411\n",
       "Genre              0\n",
       "Publisher          9\n",
       "NA_Sales           0\n",
       "EU_Sales           0\n",
       "JP_Sales           0\n",
       "Other_Sales        0\n",
       "Global_Sales       0\n",
       "dtype: int64"
      ]
     },
     "execution_count": 15,
     "metadata": {},
     "output_type": "execute_result"
    }
   ],
   "source": [
    "df.isna().sum()"
   ]
  },
  {
   "cell_type": "code",
   "execution_count": 16,
   "id": "bb671b58",
   "metadata": {},
   "outputs": [
    {
     "data": {
      "text/plain": [
       "0"
      ]
     },
     "execution_count": 16,
     "metadata": {},
     "output_type": "execute_result"
    }
   ],
   "source": [
    "sum(df.duplicated())"
   ]
  },
  {
   "cell_type": "code",
   "execution_count": 17,
   "id": "495fe174",
   "metadata": {},
   "outputs": [
    {
     "name": "stdout",
     "output_type": "stream",
     "text": [
      "<class 'pandas.core.frame.DataFrame'>\n",
      "Int64Index: 18607 entries, 0 to 18606\n",
      "Data columns (total 15 columns):\n",
      " #   Column        Non-Null Count  Dtype  \n",
      "---  ------        --------------  -----  \n",
      " 0   name          18607 non-null  object \n",
      " 1   platform      18607 non-null  object \n",
      " 2   release_date  18607 non-null  object \n",
      " 3   meta_score    18607 non-null  int64  \n",
      " 4   user_review   17528 non-null  float64\n",
      " 5   Rank          18607 non-null  int64  \n",
      " 6   Platform      18607 non-null  object \n",
      " 7   Year          18196 non-null  float64\n",
      " 8   Genre         18607 non-null  object \n",
      " 9   Publisher     18598 non-null  object \n",
      " 10  NA_Sales      18607 non-null  float64\n",
      " 11  EU_Sales      18607 non-null  float64\n",
      " 12  JP_Sales      18607 non-null  float64\n",
      " 13  Other_Sales   18607 non-null  float64\n",
      " 14  Global_Sales  18607 non-null  float64\n",
      "dtypes: float64(7), int64(2), object(6)\n",
      "memory usage: 2.3+ MB\n"
     ]
    }
   ],
   "source": [
    "df.info()"
   ]
  },
  {
   "cell_type": "code",
   "execution_count": 18,
   "id": "6d810251",
   "metadata": {},
   "outputs": [
    {
     "data": {
      "text/html": [
       "<div>\n",
       "<style scoped>\n",
       "    .dataframe tbody tr th:only-of-type {\n",
       "        vertical-align: middle;\n",
       "    }\n",
       "\n",
       "    .dataframe tbody tr th {\n",
       "        vertical-align: top;\n",
       "    }\n",
       "\n",
       "    .dataframe thead th {\n",
       "        text-align: right;\n",
       "    }\n",
       "</style>\n",
       "<table border=\"1\" class=\"dataframe\">\n",
       "  <thead>\n",
       "    <tr style=\"text-align: right;\">\n",
       "      <th></th>\n",
       "      <th>name</th>\n",
       "      <th>platform</th>\n",
       "      <th>release_date</th>\n",
       "      <th>meta_score</th>\n",
       "      <th>user_review</th>\n",
       "      <th>Rank</th>\n",
       "      <th>Platform</th>\n",
       "      <th>Year</th>\n",
       "      <th>Genre</th>\n",
       "      <th>Publisher</th>\n",
       "      <th>NA_Sales</th>\n",
       "      <th>EU_Sales</th>\n",
       "      <th>JP_Sales</th>\n",
       "      <th>Other_Sales</th>\n",
       "      <th>Global_Sales</th>\n",
       "    </tr>\n",
       "  </thead>\n",
       "  <tbody>\n",
       "    <tr>\n",
       "      <th>18587</th>\n",
       "      <td>Aquaman: Battle for Atlantis</td>\n",
       "      <td>Xbox</td>\n",
       "      <td>30-Jul-03</td>\n",
       "      <td>26</td>\n",
       "      <td>2.6</td>\n",
       "      <td>16252</td>\n",
       "      <td>GC</td>\n",
       "      <td>2003.0</td>\n",
       "      <td>Action</td>\n",
       "      <td>TDK Mediactive</td>\n",
       "      <td>0.01</td>\n",
       "      <td>0.00</td>\n",
       "      <td>0.0</td>\n",
       "      <td>0.00</td>\n",
       "      <td>0.01</td>\n",
       "    </tr>\n",
       "    <tr>\n",
       "      <th>18588</th>\n",
       "      <td>Mucha Lucha! Mascaritas of the Lost Code</td>\n",
       "      <td>Game Boy Advance</td>\n",
       "      <td>18-Nov-03</td>\n",
       "      <td>26</td>\n",
       "      <td>3.9</td>\n",
       "      <td>11847</td>\n",
       "      <td>GBA</td>\n",
       "      <td>2003.0</td>\n",
       "      <td>Fighting</td>\n",
       "      <td>Ubisoft</td>\n",
       "      <td>0.05</td>\n",
       "      <td>0.02</td>\n",
       "      <td>0.0</td>\n",
       "      <td>0.00</td>\n",
       "      <td>0.07</td>\n",
       "    </tr>\n",
       "    <tr>\n",
       "      <th>18589</th>\n",
       "      <td>Stake: Fortune Fighters</td>\n",
       "      <td>Xbox</td>\n",
       "      <td>6-May-03</td>\n",
       "      <td>26</td>\n",
       "      <td>3.6</td>\n",
       "      <td>14941</td>\n",
       "      <td>XB</td>\n",
       "      <td>2003.0</td>\n",
       "      <td>Fighting</td>\n",
       "      <td>Metro 3D</td>\n",
       "      <td>0.02</td>\n",
       "      <td>0.01</td>\n",
       "      <td>0.0</td>\n",
       "      <td>0.00</td>\n",
       "      <td>0.02</td>\n",
       "    </tr>\n",
       "    <tr>\n",
       "      <th>18590</th>\n",
       "      <td>HBO Boxing</td>\n",
       "      <td>PlayStation</td>\n",
       "      <td>20-Nov-00</td>\n",
       "      <td>26</td>\n",
       "      <td>4.0</td>\n",
       "      <td>7393</td>\n",
       "      <td>PS</td>\n",
       "      <td>2000.0</td>\n",
       "      <td>Fighting</td>\n",
       "      <td>Acclaim Entertainment</td>\n",
       "      <td>0.12</td>\n",
       "      <td>0.08</td>\n",
       "      <td>0.0</td>\n",
       "      <td>0.01</td>\n",
       "      <td>0.21</td>\n",
       "    </tr>\n",
       "    <tr>\n",
       "      <th>18591</th>\n",
       "      <td>KISS Pinball</td>\n",
       "      <td>PlayStation</td>\n",
       "      <td>25-Apr-01</td>\n",
       "      <td>26</td>\n",
       "      <td>5.0</td>\n",
       "      <td>5748</td>\n",
       "      <td>PS</td>\n",
       "      <td>2001.0</td>\n",
       "      <td>Action</td>\n",
       "      <td>Take-Two Interactive</td>\n",
       "      <td>0.17</td>\n",
       "      <td>0.12</td>\n",
       "      <td>0.0</td>\n",
       "      <td>0.02</td>\n",
       "      <td>0.31</td>\n",
       "    </tr>\n",
       "    <tr>\n",
       "      <th>18592</th>\n",
       "      <td>Tenkai Knights: Brave Battle</td>\n",
       "      <td>3DS</td>\n",
       "      <td>7-Oct-14</td>\n",
       "      <td>26</td>\n",
       "      <td>2.9</td>\n",
       "      <td>15435</td>\n",
       "      <td>3DS</td>\n",
       "      <td>2014.0</td>\n",
       "      <td>Action</td>\n",
       "      <td>Namco Bandai Games</td>\n",
       "      <td>0.01</td>\n",
       "      <td>0.01</td>\n",
       "      <td>0.0</td>\n",
       "      <td>0.00</td>\n",
       "      <td>0.02</td>\n",
       "    </tr>\n",
       "    <tr>\n",
       "      <th>18593</th>\n",
       "      <td>Leisure Suit Larry: Box Office Bust</td>\n",
       "      <td>Xbox 360</td>\n",
       "      <td>31-Mar-09</td>\n",
       "      <td>25</td>\n",
       "      <td>2.5</td>\n",
       "      <td>8477</td>\n",
       "      <td>X360</td>\n",
       "      <td>2009.0</td>\n",
       "      <td>Adventure</td>\n",
       "      <td>Codemasters</td>\n",
       "      <td>0.14</td>\n",
       "      <td>0.01</td>\n",
       "      <td>0.0</td>\n",
       "      <td>0.01</td>\n",
       "      <td>0.16</td>\n",
       "    </tr>\n",
       "    <tr>\n",
       "      <th>18594</th>\n",
       "      <td>Leisure Suit Larry: Box Office Bust</td>\n",
       "      <td>Xbox 360</td>\n",
       "      <td>31-Mar-09</td>\n",
       "      <td>25</td>\n",
       "      <td>2.5</td>\n",
       "      <td>10469</td>\n",
       "      <td>PS3</td>\n",
       "      <td>2009.0</td>\n",
       "      <td>Adventure</td>\n",
       "      <td>Codemasters</td>\n",
       "      <td>0.06</td>\n",
       "      <td>0.03</td>\n",
       "      <td>0.0</td>\n",
       "      <td>0.01</td>\n",
       "      <td>0.10</td>\n",
       "    </tr>\n",
       "    <tr>\n",
       "      <th>18595</th>\n",
       "      <td>Leisure Suit Larry: Box Office Bust</td>\n",
       "      <td>PC</td>\n",
       "      <td>31-Mar-09</td>\n",
       "      <td>20</td>\n",
       "      <td>2.0</td>\n",
       "      <td>8477</td>\n",
       "      <td>X360</td>\n",
       "      <td>2009.0</td>\n",
       "      <td>Adventure</td>\n",
       "      <td>Codemasters</td>\n",
       "      <td>0.14</td>\n",
       "      <td>0.01</td>\n",
       "      <td>0.0</td>\n",
       "      <td>0.01</td>\n",
       "      <td>0.16</td>\n",
       "    </tr>\n",
       "    <tr>\n",
       "      <th>18596</th>\n",
       "      <td>Leisure Suit Larry: Box Office Bust</td>\n",
       "      <td>PC</td>\n",
       "      <td>31-Mar-09</td>\n",
       "      <td>20</td>\n",
       "      <td>2.0</td>\n",
       "      <td>10469</td>\n",
       "      <td>PS3</td>\n",
       "      <td>2009.0</td>\n",
       "      <td>Adventure</td>\n",
       "      <td>Codemasters</td>\n",
       "      <td>0.06</td>\n",
       "      <td>0.03</td>\n",
       "      <td>0.0</td>\n",
       "      <td>0.01</td>\n",
       "      <td>0.10</td>\n",
       "    </tr>\n",
       "    <tr>\n",
       "      <th>18597</th>\n",
       "      <td>Game Party</td>\n",
       "      <td>Wii</td>\n",
       "      <td>27-Nov-07</td>\n",
       "      <td>25</td>\n",
       "      <td>3.9</td>\n",
       "      <td>611</td>\n",
       "      <td>Wii</td>\n",
       "      <td>2007.0</td>\n",
       "      <td>Misc</td>\n",
       "      <td>Midway Games</td>\n",
       "      <td>1.50</td>\n",
       "      <td>0.78</td>\n",
       "      <td>0.0</td>\n",
       "      <td>0.24</td>\n",
       "      <td>2.52</td>\n",
       "    </tr>\n",
       "    <tr>\n",
       "      <th>18598</th>\n",
       "      <td>Cruis'n</td>\n",
       "      <td>Wii</td>\n",
       "      <td>27-Nov-07</td>\n",
       "      <td>25</td>\n",
       "      <td>4.0</td>\n",
       "      <td>9899</td>\n",
       "      <td>Wii</td>\n",
       "      <td>2007.0</td>\n",
       "      <td>Racing</td>\n",
       "      <td>Midway Games</td>\n",
       "      <td>0.10</td>\n",
       "      <td>0.01</td>\n",
       "      <td>0.0</td>\n",
       "      <td>0.01</td>\n",
       "      <td>0.12</td>\n",
       "    </tr>\n",
       "    <tr>\n",
       "      <th>18599</th>\n",
       "      <td>Gravity Games Bike: Street Vert Dirt</td>\n",
       "      <td>PlayStation 2</td>\n",
       "      <td>27-Jun-02</td>\n",
       "      <td>24</td>\n",
       "      <td>3.4</td>\n",
       "      <td>10424</td>\n",
       "      <td>PS2</td>\n",
       "      <td>2002.0</td>\n",
       "      <td>Sports</td>\n",
       "      <td>Midway Games</td>\n",
       "      <td>0.05</td>\n",
       "      <td>0.04</td>\n",
       "      <td>0.0</td>\n",
       "      <td>0.01</td>\n",
       "      <td>0.10</td>\n",
       "    </tr>\n",
       "    <tr>\n",
       "      <th>18600</th>\n",
       "      <td>Pulse Racer</td>\n",
       "      <td>Xbox</td>\n",
       "      <td>2-Jan-03</td>\n",
       "      <td>24</td>\n",
       "      <td>2.2</td>\n",
       "      <td>15670</td>\n",
       "      <td>XB</td>\n",
       "      <td>2003.0</td>\n",
       "      <td>Racing</td>\n",
       "      <td>Jaleco</td>\n",
       "      <td>0.01</td>\n",
       "      <td>0.00</td>\n",
       "      <td>0.0</td>\n",
       "      <td>0.00</td>\n",
       "      <td>0.02</td>\n",
       "    </tr>\n",
       "    <tr>\n",
       "      <th>18601</th>\n",
       "      <td>Fighter Within</td>\n",
       "      <td>Xbox One</td>\n",
       "      <td>19-Nov-13</td>\n",
       "      <td>23</td>\n",
       "      <td>2.8</td>\n",
       "      <td>7875</td>\n",
       "      <td>XOne</td>\n",
       "      <td>2013.0</td>\n",
       "      <td>Fighting</td>\n",
       "      <td>Ubisoft</td>\n",
       "      <td>0.11</td>\n",
       "      <td>0.07</td>\n",
       "      <td>0.0</td>\n",
       "      <td>0.02</td>\n",
       "      <td>0.19</td>\n",
       "    </tr>\n",
       "    <tr>\n",
       "      <th>18602</th>\n",
       "      <td>Homie Rollerz</td>\n",
       "      <td>DS</td>\n",
       "      <td>5-Mar-08</td>\n",
       "      <td>23</td>\n",
       "      <td>3.0</td>\n",
       "      <td>11936</td>\n",
       "      <td>DS</td>\n",
       "      <td>2008.0</td>\n",
       "      <td>Racing</td>\n",
       "      <td>Destineer</td>\n",
       "      <td>0.07</td>\n",
       "      <td>0.00</td>\n",
       "      <td>0.0</td>\n",
       "      <td>0.01</td>\n",
       "      <td>0.07</td>\n",
       "    </tr>\n",
       "    <tr>\n",
       "      <th>18603</th>\n",
       "      <td>Charlie's Angels</td>\n",
       "      <td>GameCube</td>\n",
       "      <td>9-Jul-03</td>\n",
       "      <td>23</td>\n",
       "      <td>4.3</td>\n",
       "      <td>15524</td>\n",
       "      <td>GC</td>\n",
       "      <td>2003.0</td>\n",
       "      <td>Action</td>\n",
       "      <td>Ubisoft</td>\n",
       "      <td>0.01</td>\n",
       "      <td>0.00</td>\n",
       "      <td>0.0</td>\n",
       "      <td>0.00</td>\n",
       "      <td>0.02</td>\n",
       "    </tr>\n",
       "    <tr>\n",
       "      <th>18604</th>\n",
       "      <td>Fast &amp; Furious: Showdown</td>\n",
       "      <td>Xbox 360</td>\n",
       "      <td>21-May-13</td>\n",
       "      <td>22</td>\n",
       "      <td>1.3</td>\n",
       "      <td>13356</td>\n",
       "      <td>X360</td>\n",
       "      <td>2013.0</td>\n",
       "      <td>Action</td>\n",
       "      <td>Activision</td>\n",
       "      <td>0.00</td>\n",
       "      <td>0.04</td>\n",
       "      <td>0.0</td>\n",
       "      <td>0.00</td>\n",
       "      <td>0.05</td>\n",
       "    </tr>\n",
       "    <tr>\n",
       "      <th>18605</th>\n",
       "      <td>Fast &amp; Furious: Showdown</td>\n",
       "      <td>Xbox 360</td>\n",
       "      <td>21-May-13</td>\n",
       "      <td>22</td>\n",
       "      <td>1.3</td>\n",
       "      <td>14106</td>\n",
       "      <td>PS3</td>\n",
       "      <td>2013.0</td>\n",
       "      <td>Action</td>\n",
       "      <td>Activision</td>\n",
       "      <td>0.00</td>\n",
       "      <td>0.03</td>\n",
       "      <td>0.0</td>\n",
       "      <td>0.00</td>\n",
       "      <td>0.03</td>\n",
       "    </tr>\n",
       "    <tr>\n",
       "      <th>18606</th>\n",
       "      <td>Drake of the 99 Dragons</td>\n",
       "      <td>Xbox</td>\n",
       "      <td>3-Nov-03</td>\n",
       "      <td>22</td>\n",
       "      <td>1.7</td>\n",
       "      <td>12017</td>\n",
       "      <td>XB</td>\n",
       "      <td>NaN</td>\n",
       "      <td>Shooter</td>\n",
       "      <td>Unknown</td>\n",
       "      <td>0.05</td>\n",
       "      <td>0.01</td>\n",
       "      <td>0.0</td>\n",
       "      <td>0.00</td>\n",
       "      <td>0.07</td>\n",
       "    </tr>\n",
       "  </tbody>\n",
       "</table>\n",
       "</div>"
      ],
      "text/plain": [
       "                                           name           platform  \\\n",
       "18587              Aquaman: Battle for Atlantis               Xbox   \n",
       "18588  Mucha Lucha! Mascaritas of the Lost Code   Game Boy Advance   \n",
       "18589                   Stake: Fortune Fighters               Xbox   \n",
       "18590                                HBO Boxing        PlayStation   \n",
       "18591                              KISS Pinball        PlayStation   \n",
       "18592              Tenkai Knights: Brave Battle                3DS   \n",
       "18593       Leisure Suit Larry: Box Office Bust           Xbox 360   \n",
       "18594       Leisure Suit Larry: Box Office Bust           Xbox 360   \n",
       "18595       Leisure Suit Larry: Box Office Bust                 PC   \n",
       "18596       Leisure Suit Larry: Box Office Bust                 PC   \n",
       "18597                                Game Party                Wii   \n",
       "18598                                   Cruis'n                Wii   \n",
       "18599      Gravity Games Bike: Street Vert Dirt      PlayStation 2   \n",
       "18600                               Pulse Racer               Xbox   \n",
       "18601                            Fighter Within           Xbox One   \n",
       "18602                             Homie Rollerz                 DS   \n",
       "18603                          Charlie's Angels           GameCube   \n",
       "18604                  Fast & Furious: Showdown           Xbox 360   \n",
       "18605                  Fast & Furious: Showdown           Xbox 360   \n",
       "18606                   Drake of the 99 Dragons               Xbox   \n",
       "\n",
       "      release_date  meta_score  user_review   Rank Platform    Year  \\\n",
       "18587    30-Jul-03          26          2.6  16252       GC  2003.0   \n",
       "18588    18-Nov-03          26          3.9  11847      GBA  2003.0   \n",
       "18589     6-May-03          26          3.6  14941       XB  2003.0   \n",
       "18590    20-Nov-00          26          4.0   7393       PS  2000.0   \n",
       "18591    25-Apr-01          26          5.0   5748       PS  2001.0   \n",
       "18592     7-Oct-14          26          2.9  15435      3DS  2014.0   \n",
       "18593    31-Mar-09          25          2.5   8477     X360  2009.0   \n",
       "18594    31-Mar-09          25          2.5  10469      PS3  2009.0   \n",
       "18595    31-Mar-09          20          2.0   8477     X360  2009.0   \n",
       "18596    31-Mar-09          20          2.0  10469      PS3  2009.0   \n",
       "18597    27-Nov-07          25          3.9    611      Wii  2007.0   \n",
       "18598    27-Nov-07          25          4.0   9899      Wii  2007.0   \n",
       "18599    27-Jun-02          24          3.4  10424      PS2  2002.0   \n",
       "18600     2-Jan-03          24          2.2  15670       XB  2003.0   \n",
       "18601    19-Nov-13          23          2.8   7875     XOne  2013.0   \n",
       "18602     5-Mar-08          23          3.0  11936       DS  2008.0   \n",
       "18603     9-Jul-03          23          4.3  15524       GC  2003.0   \n",
       "18604    21-May-13          22          1.3  13356     X360  2013.0   \n",
       "18605    21-May-13          22          1.3  14106      PS3  2013.0   \n",
       "18606     3-Nov-03          22          1.7  12017       XB     NaN   \n",
       "\n",
       "           Genre              Publisher  NA_Sales  EU_Sales  JP_Sales  \\\n",
       "18587     Action         TDK Mediactive      0.01      0.00       0.0   \n",
       "18588   Fighting                Ubisoft      0.05      0.02       0.0   \n",
       "18589   Fighting               Metro 3D      0.02      0.01       0.0   \n",
       "18590   Fighting  Acclaim Entertainment      0.12      0.08       0.0   \n",
       "18591     Action   Take-Two Interactive      0.17      0.12       0.0   \n",
       "18592     Action     Namco Bandai Games      0.01      0.01       0.0   \n",
       "18593  Adventure            Codemasters      0.14      0.01       0.0   \n",
       "18594  Adventure            Codemasters      0.06      0.03       0.0   \n",
       "18595  Adventure            Codemasters      0.14      0.01       0.0   \n",
       "18596  Adventure            Codemasters      0.06      0.03       0.0   \n",
       "18597       Misc           Midway Games      1.50      0.78       0.0   \n",
       "18598     Racing           Midway Games      0.10      0.01       0.0   \n",
       "18599     Sports           Midway Games      0.05      0.04       0.0   \n",
       "18600     Racing                 Jaleco      0.01      0.00       0.0   \n",
       "18601   Fighting                Ubisoft      0.11      0.07       0.0   \n",
       "18602     Racing              Destineer      0.07      0.00       0.0   \n",
       "18603     Action                Ubisoft      0.01      0.00       0.0   \n",
       "18604     Action             Activision      0.00      0.04       0.0   \n",
       "18605     Action             Activision      0.00      0.03       0.0   \n",
       "18606    Shooter                Unknown      0.05      0.01       0.0   \n",
       "\n",
       "       Other_Sales  Global_Sales  \n",
       "18587         0.00          0.01  \n",
       "18588         0.00          0.07  \n",
       "18589         0.00          0.02  \n",
       "18590         0.01          0.21  \n",
       "18591         0.02          0.31  \n",
       "18592         0.00          0.02  \n",
       "18593         0.01          0.16  \n",
       "18594         0.01          0.10  \n",
       "18595         0.01          0.16  \n",
       "18596         0.01          0.10  \n",
       "18597         0.24          2.52  \n",
       "18598         0.01          0.12  \n",
       "18599         0.01          0.10  \n",
       "18600         0.00          0.02  \n",
       "18601         0.02          0.19  \n",
       "18602         0.01          0.07  \n",
       "18603         0.00          0.02  \n",
       "18604         0.00          0.05  \n",
       "18605         0.00          0.03  \n",
       "18606         0.00          0.07  "
      ]
     },
     "execution_count": 18,
     "metadata": {},
     "output_type": "execute_result"
    }
   ],
   "source": [
    "df.tail(20)"
   ]
  },
  {
   "cell_type": "code",
   "execution_count": 19,
   "id": "89af568d",
   "metadata": {},
   "outputs": [
    {
     "name": "stdout",
     "output_type": "stream",
     "text": [
      "<class 'pandas.core.frame.DataFrame'>\n",
      "Int64Index: 18607 entries, 0 to 18606\n",
      "Data columns (total 15 columns):\n",
      " #   Column        Non-Null Count  Dtype  \n",
      "---  ------        --------------  -----  \n",
      " 0   name          18607 non-null  object \n",
      " 1   platform      18607 non-null  object \n",
      " 2   release_date  18607 non-null  object \n",
      " 3   meta_score    18607 non-null  int64  \n",
      " 4   user_review   17528 non-null  float64\n",
      " 5   Rank          18607 non-null  int64  \n",
      " 6   Platform      18607 non-null  object \n",
      " 7   Year          18196 non-null  float64\n",
      " 8   Genre         18607 non-null  object \n",
      " 9   Publisher     18598 non-null  object \n",
      " 10  NA_Sales      18607 non-null  float64\n",
      " 11  EU_Sales      18607 non-null  float64\n",
      " 12  JP_Sales      18607 non-null  float64\n",
      " 13  Other_Sales   18607 non-null  float64\n",
      " 14  Global_Sales  18607 non-null  float64\n",
      "dtypes: float64(7), int64(2), object(6)\n",
      "memory usage: 2.3+ MB\n"
     ]
    }
   ],
   "source": [
    "df.info()"
   ]
  },
  {
   "cell_type": "code",
   "execution_count": 20,
   "id": "bb012d4f",
   "metadata": {},
   "outputs": [],
   "source": [
    "# Conver year to int"
   ]
  },
  {
   "cell_type": "code",
   "execution_count": 21,
   "id": "46d5eae3",
   "metadata": {},
   "outputs": [],
   "source": [
    "df[\"Year\"]=df[\"Year\"].fillna(0).astype(np.int64)"
   ]
  },
  {
   "cell_type": "code",
   "execution_count": 22,
   "id": "7104ed28",
   "metadata": {},
   "outputs": [
    {
     "data": {
      "text/html": [
       "<div>\n",
       "<style scoped>\n",
       "    .dataframe tbody tr th:only-of-type {\n",
       "        vertical-align: middle;\n",
       "    }\n",
       "\n",
       "    .dataframe tbody tr th {\n",
       "        vertical-align: top;\n",
       "    }\n",
       "\n",
       "    .dataframe thead th {\n",
       "        text-align: right;\n",
       "    }\n",
       "</style>\n",
       "<table border=\"1\" class=\"dataframe\">\n",
       "  <thead>\n",
       "    <tr style=\"text-align: right;\">\n",
       "      <th></th>\n",
       "      <th>name</th>\n",
       "      <th>platform</th>\n",
       "      <th>release_date</th>\n",
       "      <th>meta_score</th>\n",
       "      <th>user_review</th>\n",
       "      <th>Rank</th>\n",
       "      <th>Platform</th>\n",
       "      <th>Year</th>\n",
       "      <th>Genre</th>\n",
       "      <th>Publisher</th>\n",
       "      <th>NA_Sales</th>\n",
       "      <th>EU_Sales</th>\n",
       "      <th>JP_Sales</th>\n",
       "      <th>Other_Sales</th>\n",
       "      <th>Global_Sales</th>\n",
       "    </tr>\n",
       "  </thead>\n",
       "  <tbody>\n",
       "    <tr>\n",
       "      <th>0</th>\n",
       "      <td>The Legend of Zelda: Ocarina of Time</td>\n",
       "      <td>Nintendo 64</td>\n",
       "      <td>23-Nov-98</td>\n",
       "      <td>99</td>\n",
       "      <td>9.1</td>\n",
       "      <td>95</td>\n",
       "      <td>N64</td>\n",
       "      <td>1998</td>\n",
       "      <td>Action</td>\n",
       "      <td>Nintendo</td>\n",
       "      <td>4.10</td>\n",
       "      <td>1.89</td>\n",
       "      <td>1.45</td>\n",
       "      <td>0.16</td>\n",
       "      <td>7.60</td>\n",
       "    </tr>\n",
       "    <tr>\n",
       "      <th>1</th>\n",
       "      <td>The Legend of Zelda: Ocarina of Time</td>\n",
       "      <td>Nintendo 64</td>\n",
       "      <td>23-Nov-98</td>\n",
       "      <td>99</td>\n",
       "      <td>9.1</td>\n",
       "      <td>269</td>\n",
       "      <td>3DS</td>\n",
       "      <td>2011</td>\n",
       "      <td>Action</td>\n",
       "      <td>Nintendo</td>\n",
       "      <td>2.03</td>\n",
       "      <td>1.27</td>\n",
       "      <td>0.62</td>\n",
       "      <td>0.30</td>\n",
       "      <td>4.21</td>\n",
       "    </tr>\n",
       "    <tr>\n",
       "      <th>2</th>\n",
       "      <td>Tony Hawk's Pro Skater 2</td>\n",
       "      <td>PlayStation</td>\n",
       "      <td>20-Sep-00</td>\n",
       "      <td>98</td>\n",
       "      <td>7.4</td>\n",
       "      <td>226</td>\n",
       "      <td>PS</td>\n",
       "      <td>2000</td>\n",
       "      <td>Sports</td>\n",
       "      <td>Activision</td>\n",
       "      <td>3.05</td>\n",
       "      <td>1.41</td>\n",
       "      <td>0.02</td>\n",
       "      <td>0.20</td>\n",
       "      <td>4.68</td>\n",
       "    </tr>\n",
       "    <tr>\n",
       "      <th>3</th>\n",
       "      <td>Tony Hawk's Pro Skater 2</td>\n",
       "      <td>PlayStation</td>\n",
       "      <td>20-Sep-00</td>\n",
       "      <td>98</td>\n",
       "      <td>7.4</td>\n",
       "      <td>1713</td>\n",
       "      <td>GBA</td>\n",
       "      <td>2001</td>\n",
       "      <td>Sports</td>\n",
       "      <td>Activision</td>\n",
       "      <td>0.85</td>\n",
       "      <td>0.31</td>\n",
       "      <td>0.00</td>\n",
       "      <td>0.02</td>\n",
       "      <td>1.18</td>\n",
       "    </tr>\n",
       "    <tr>\n",
       "      <th>4</th>\n",
       "      <td>Tony Hawk's Pro Skater 2</td>\n",
       "      <td>PlayStation</td>\n",
       "      <td>20-Sep-00</td>\n",
       "      <td>98</td>\n",
       "      <td>7.4</td>\n",
       "      <td>2707</td>\n",
       "      <td>N64</td>\n",
       "      <td>2001</td>\n",
       "      <td>Sports</td>\n",
       "      <td>Activision</td>\n",
       "      <td>0.59</td>\n",
       "      <td>0.16</td>\n",
       "      <td>0.00</td>\n",
       "      <td>0.01</td>\n",
       "      <td>0.76</td>\n",
       "    </tr>\n",
       "  </tbody>\n",
       "</table>\n",
       "</div>"
      ],
      "text/plain": [
       "                                   name      platform release_date  \\\n",
       "0  The Legend of Zelda: Ocarina of Time   Nintendo 64    23-Nov-98   \n",
       "1  The Legend of Zelda: Ocarina of Time   Nintendo 64    23-Nov-98   \n",
       "2              Tony Hawk's Pro Skater 2   PlayStation    20-Sep-00   \n",
       "3              Tony Hawk's Pro Skater 2   PlayStation    20-Sep-00   \n",
       "4              Tony Hawk's Pro Skater 2   PlayStation    20-Sep-00   \n",
       "\n",
       "   meta_score  user_review  Rank Platform  Year   Genre   Publisher  NA_Sales  \\\n",
       "0          99          9.1    95      N64  1998  Action    Nintendo      4.10   \n",
       "1          99          9.1   269      3DS  2011  Action    Nintendo      2.03   \n",
       "2          98          7.4   226       PS  2000  Sports  Activision      3.05   \n",
       "3          98          7.4  1713      GBA  2001  Sports  Activision      0.85   \n",
       "4          98          7.4  2707      N64  2001  Sports  Activision      0.59   \n",
       "\n",
       "   EU_Sales  JP_Sales  Other_Sales  Global_Sales  \n",
       "0      1.89      1.45         0.16          7.60  \n",
       "1      1.27      0.62         0.30          4.21  \n",
       "2      1.41      0.02         0.20          4.68  \n",
       "3      0.31      0.00         0.02          1.18  \n",
       "4      0.16      0.00         0.01          0.76  "
      ]
     },
     "execution_count": 22,
     "metadata": {},
     "output_type": "execute_result"
    }
   ],
   "source": [
    "df.head()"
   ]
  },
  {
   "cell_type": "code",
   "execution_count": 23,
   "id": "2a27af9a",
   "metadata": {},
   "outputs": [
    {
     "data": {
      "text/plain": [
       "2016"
      ]
     },
     "execution_count": 23,
     "metadata": {},
     "output_type": "execute_result"
    }
   ],
   "source": [
    "df[\"Year\"].max()"
   ]
  },
  {
   "cell_type": "code",
   "execution_count": 24,
   "id": "4cdae10d",
   "metadata": {},
   "outputs": [],
   "source": [
    "df = df.dropna()"
   ]
  },
  {
   "cell_type": "code",
   "execution_count": 25,
   "id": "957ae01a",
   "metadata": {},
   "outputs": [
    {
     "data": {
      "text/plain": [
       "name            0\n",
       "platform        0\n",
       "release_date    0\n",
       "meta_score      0\n",
       "user_review     0\n",
       "Rank            0\n",
       "Platform        0\n",
       "Year            0\n",
       "Genre           0\n",
       "Publisher       0\n",
       "NA_Sales        0\n",
       "EU_Sales        0\n",
       "JP_Sales        0\n",
       "Other_Sales     0\n",
       "Global_Sales    0\n",
       "dtype: int64"
      ]
     },
     "execution_count": 25,
     "metadata": {},
     "output_type": "execute_result"
    }
   ],
   "source": [
    "df.isna().sum()"
   ]
  },
  {
   "cell_type": "code",
   "execution_count": 26,
   "id": "11a08864",
   "metadata": {},
   "outputs": [
    {
     "name": "stdout",
     "output_type": "stream",
     "text": [
      "<class 'pandas.core.frame.DataFrame'>\n",
      "Int64Index: 17519 entries, 0 to 18606\n",
      "Data columns (total 15 columns):\n",
      " #   Column        Non-Null Count  Dtype  \n",
      "---  ------        --------------  -----  \n",
      " 0   name          17519 non-null  object \n",
      " 1   platform      17519 non-null  object \n",
      " 2   release_date  17519 non-null  object \n",
      " 3   meta_score    17519 non-null  int64  \n",
      " 4   user_review   17519 non-null  float64\n",
      " 5   Rank          17519 non-null  int64  \n",
      " 6   Platform      17519 non-null  object \n",
      " 7   Year          17519 non-null  int64  \n",
      " 8   Genre         17519 non-null  object \n",
      " 9   Publisher     17519 non-null  object \n",
      " 10  NA_Sales      17519 non-null  float64\n",
      " 11  EU_Sales      17519 non-null  float64\n",
      " 12  JP_Sales      17519 non-null  float64\n",
      " 13  Other_Sales   17519 non-null  float64\n",
      " 14  Global_Sales  17519 non-null  float64\n",
      "dtypes: float64(6), int64(3), object(6)\n",
      "memory usage: 2.1+ MB\n"
     ]
    }
   ],
   "source": [
    "df.info()"
   ]
  },
  {
   "cell_type": "code",
   "execution_count": null,
   "id": "17066d68",
   "metadata": {},
   "outputs": [],
   "source": []
  },
  {
   "cell_type": "markdown",
   "id": "1c8d342e",
   "metadata": {},
   "source": [
    "## <a name='Expl' > Exploratory Data Analysis (Uni-Variable) </a>"
   ]
  },
  {
   "cell_type": "code",
   "execution_count": 27,
   "id": "3adbfb32",
   "metadata": {},
   "outputs": [
    {
     "data": {
      "text/plain": [
       "<AxesSubplot:>"
      ]
     },
     "execution_count": 27,
     "metadata": {},
     "output_type": "execute_result"
    },
    {
     "data": {
      "image/png": "[encoded data removed]",
      "text/plain": [
       "<Figure size 432x288 with 1 Axes>"
      ]
     },
     "metadata": {
      "needs_background": "light"
     },
     "output_type": "display_data"
    }
   ],
   "source": [
    "# To check null value \n",
    "(df.isna().sum() / len(df) * 100.00).hist()"
   ]
  },
  {
   "cell_type": "code",
   "execution_count": 28,
   "id": "fa6c84cc",
   "metadata": {},
   "outputs": [],
   "source": [
    "# Discover outliers with Quartile calculations (IQR)"
   ]
  },
  {
   "cell_type": "code",
   "execution_count": 29,
   "id": "8bda8b45",
   "metadata": {},
   "outputs": [
    {
     "name": "stdout",
     "output_type": "stream",
     "text": [
      "meta_score        17.00\n",
      "user_review        1.60\n",
      "Rank            7133.50\n",
      "Year               7.00\n",
      "NA_Sales           0.35\n",
      "EU_Sales           0.21\n",
      "JP_Sales           0.01\n",
      "Other_Sales        0.07\n",
      "Global_Sales       0.69\n",
      "dtype: float64\n"
     ]
    }
   ],
   "source": [
    "Q1 = df.quantile(0.25)\n",
    "Q3 = df.quantile(0.75)\n",
    "IQR = Q3 - Q1\n",
    "print(IQR)\n"
   ]
  },
  {
   "cell_type": "code",
   "execution_count": 30,
   "id": "043ce4b9",
   "metadata": {},
   "outputs": [
    {
     "data": {
      "text/html": [
       "<div>\n",
       "<style scoped>\n",
       "    .dataframe tbody tr th:only-of-type {\n",
       "        vertical-align: middle;\n",
       "    }\n",
       "\n",
       "    .dataframe tbody tr th {\n",
       "        vertical-align: top;\n",
       "    }\n",
       "\n",
       "    .dataframe thead th {\n",
       "        text-align: right;\n",
       "    }\n",
       "</style>\n",
       "<table border=\"1\" class=\"dataframe\">\n",
       "  <thead>\n",
       "    <tr style=\"text-align: right;\">\n",
       "      <th></th>\n",
       "      <th>EU_Sales</th>\n",
       "      <th>Genre</th>\n",
       "      <th>Global_Sales</th>\n",
       "      <th>JP_Sales</th>\n",
       "      <th>NA_Sales</th>\n",
       "      <th>Other_Sales</th>\n",
       "      <th>Platform</th>\n",
       "      <th>Publisher</th>\n",
       "      <th>Rank</th>\n",
       "      <th>Year</th>\n",
       "      <th>meta_score</th>\n",
       "      <th>name</th>\n",
       "      <th>platform</th>\n",
       "      <th>release_date</th>\n",
       "      <th>user_review</th>\n",
       "    </tr>\n",
       "  </thead>\n",
       "  <tbody>\n",
       "    <tr>\n",
       "      <th>0</th>\n",
       "      <td>True</td>\n",
       "      <td>False</td>\n",
       "      <td>True</td>\n",
       "      <td>True</td>\n",
       "      <td>True</td>\n",
       "      <td>False</td>\n",
       "      <td>False</td>\n",
       "      <td>False</td>\n",
       "      <td>False</td>\n",
       "      <td>False</td>\n",
       "      <td>False</td>\n",
       "      <td>False</td>\n",
       "      <td>False</td>\n",
       "      <td>False</td>\n",
       "      <td>False</td>\n",
       "    </tr>\n",
       "    <tr>\n",
       "      <th>1</th>\n",
       "      <td>True</td>\n",
       "      <td>False</td>\n",
       "      <td>True</td>\n",
       "      <td>True</td>\n",
       "      <td>True</td>\n",
       "      <td>True</td>\n",
       "      <td>False</td>\n",
       "      <td>False</td>\n",
       "      <td>False</td>\n",
       "      <td>False</td>\n",
       "      <td>False</td>\n",
       "      <td>False</td>\n",
       "      <td>False</td>\n",
       "      <td>False</td>\n",
       "      <td>False</td>\n",
       "    </tr>\n",
       "    <tr>\n",
       "      <th>2</th>\n",
       "      <td>True</td>\n",
       "      <td>False</td>\n",
       "      <td>True</td>\n",
       "      <td>False</td>\n",
       "      <td>True</td>\n",
       "      <td>True</td>\n",
       "      <td>False</td>\n",
       "      <td>False</td>\n",
       "      <td>False</td>\n",
       "      <td>False</td>\n",
       "      <td>False</td>\n",
       "      <td>False</td>\n",
       "      <td>False</td>\n",
       "      <td>False</td>\n",
       "      <td>False</td>\n",
       "    </tr>\n",
       "    <tr>\n",
       "      <th>3</th>\n",
       "      <td>False</td>\n",
       "      <td>False</td>\n",
       "      <td>False</td>\n",
       "      <td>False</td>\n",
       "      <td>False</td>\n",
       "      <td>False</td>\n",
       "      <td>False</td>\n",
       "      <td>False</td>\n",
       "      <td>False</td>\n",
       "      <td>False</td>\n",
       "      <td>False</td>\n",
       "      <td>False</td>\n",
       "      <td>False</td>\n",
       "      <td>False</td>\n",
       "      <td>False</td>\n",
       "    </tr>\n",
       "    <tr>\n",
       "      <th>4</th>\n",
       "      <td>False</td>\n",
       "      <td>False</td>\n",
       "      <td>False</td>\n",
       "      <td>False</td>\n",
       "      <td>False</td>\n",
       "      <td>False</td>\n",
       "      <td>False</td>\n",
       "      <td>False</td>\n",
       "      <td>False</td>\n",
       "      <td>False</td>\n",
       "      <td>False</td>\n",
       "      <td>False</td>\n",
       "      <td>False</td>\n",
       "      <td>False</td>\n",
       "      <td>False</td>\n",
       "    </tr>\n",
       "    <tr>\n",
       "      <th>...</th>\n",
       "      <td>...</td>\n",
       "      <td>...</td>\n",
       "      <td>...</td>\n",
       "      <td>...</td>\n",
       "      <td>...</td>\n",
       "      <td>...</td>\n",
       "      <td>...</td>\n",
       "      <td>...</td>\n",
       "      <td>...</td>\n",
       "      <td>...</td>\n",
       "      <td>...</td>\n",
       "      <td>...</td>\n",
       "      <td>...</td>\n",
       "      <td>...</td>\n",
       "      <td>...</td>\n",
       "    </tr>\n",
       "    <tr>\n",
       "      <th>18602</th>\n",
       "      <td>False</td>\n",
       "      <td>False</td>\n",
       "      <td>False</td>\n",
       "      <td>False</td>\n",
       "      <td>False</td>\n",
       "      <td>False</td>\n",
       "      <td>False</td>\n",
       "      <td>False</td>\n",
       "      <td>False</td>\n",
       "      <td>False</td>\n",
       "      <td>True</td>\n",
       "      <td>False</td>\n",
       "      <td>False</td>\n",
       "      <td>False</td>\n",
       "      <td>True</td>\n",
       "    </tr>\n",
       "    <tr>\n",
       "      <th>18603</th>\n",
       "      <td>False</td>\n",
       "      <td>False</td>\n",
       "      <td>False</td>\n",
       "      <td>False</td>\n",
       "      <td>False</td>\n",
       "      <td>False</td>\n",
       "      <td>False</td>\n",
       "      <td>False</td>\n",
       "      <td>False</td>\n",
       "      <td>False</td>\n",
       "      <td>True</td>\n",
       "      <td>False</td>\n",
       "      <td>False</td>\n",
       "      <td>False</td>\n",
       "      <td>False</td>\n",
       "    </tr>\n",
       "    <tr>\n",
       "      <th>18604</th>\n",
       "      <td>False</td>\n",
       "      <td>False</td>\n",
       "      <td>False</td>\n",
       "      <td>False</td>\n",
       "      <td>False</td>\n",
       "      <td>False</td>\n",
       "      <td>False</td>\n",
       "      <td>False</td>\n",
       "      <td>False</td>\n",
       "      <td>False</td>\n",
       "      <td>True</td>\n",
       "      <td>False</td>\n",
       "      <td>False</td>\n",
       "      <td>False</td>\n",
       "      <td>True</td>\n",
       "    </tr>\n",
       "    <tr>\n",
       "      <th>18605</th>\n",
       "      <td>False</td>\n",
       "      <td>False</td>\n",
       "      <td>False</td>\n",
       "      <td>False</td>\n",
       "      <td>False</td>\n",
       "      <td>False</td>\n",
       "      <td>False</td>\n",
       "      <td>False</td>\n",
       "      <td>False</td>\n",
       "      <td>False</td>\n",
       "      <td>True</td>\n",
       "      <td>False</td>\n",
       "      <td>False</td>\n",
       "      <td>False</td>\n",
       "      <td>True</td>\n",
       "    </tr>\n",
       "    <tr>\n",
       "      <th>18606</th>\n",
       "      <td>False</td>\n",
       "      <td>False</td>\n",
       "      <td>False</td>\n",
       "      <td>False</td>\n",
       "      <td>False</td>\n",
       "      <td>False</td>\n",
       "      <td>False</td>\n",
       "      <td>False</td>\n",
       "      <td>False</td>\n",
       "      <td>True</td>\n",
       "      <td>True</td>\n",
       "      <td>False</td>\n",
       "      <td>False</td>\n",
       "      <td>False</td>\n",
       "      <td>True</td>\n",
       "    </tr>\n",
       "  </tbody>\n",
       "</table>\n",
       "<p>17519 rows × 15 columns</p>\n",
       "</div>"
      ],
      "text/plain": [
       "       EU_Sales  Genre  Global_Sales  JP_Sales  NA_Sales  Other_Sales  \\\n",
       "0          True  False          True      True      True        False   \n",
       "1          True  False          True      True      True         True   \n",
       "2          True  False          True     False      True         True   \n",
       "3         False  False         False     False     False        False   \n",
       "4         False  False         False     False     False        False   \n",
       "...         ...    ...           ...       ...       ...          ...   \n",
       "18602     False  False         False     False     False        False   \n",
       "18603     False  False         False     False     False        False   \n",
       "18604     False  False         False     False     False        False   \n",
       "18605     False  False         False     False     False        False   \n",
       "18606     False  False         False     False     False        False   \n",
       "\n",
       "       Platform  Publisher   Rank   Year  meta_score   name  platform  \\\n",
       "0         False      False  False  False       False  False     False   \n",
       "1         False      False  False  False       False  False     False   \n",
       "2         False      False  False  False       False  False     False   \n",
       "3         False      False  False  False       False  False     False   \n",
       "4         False      False  False  False       False  False     False   \n",
       "...         ...        ...    ...    ...         ...    ...       ...   \n",
       "18602     False      False  False  False        True  False     False   \n",
       "18603     False      False  False  False        True  False     False   \n",
       "18604     False      False  False  False        True  False     False   \n",
       "18605     False      False  False  False        True  False     False   \n",
       "18606     False      False  False   True        True  False     False   \n",
       "\n",
       "       release_date  user_review  \n",
       "0             False        False  \n",
       "1             False        False  \n",
       "2             False        False  \n",
       "3             False        False  \n",
       "4             False        False  \n",
       "...             ...          ...  \n",
       "18602         False         True  \n",
       "18603         False        False  \n",
       "18604         False         True  \n",
       "18605         False         True  \n",
       "18606         False         True  \n",
       "\n",
       "[17519 rows x 15 columns]"
      ]
     },
     "execution_count": 30,
     "metadata": {},
     "output_type": "execute_result"
    }
   ],
   "source": [
    "(df < (Q1 - 1.5 * IQR)) |(df > (Q3 + 1.5 * IQR))"
   ]
  },
  {
   "cell_type": "code",
   "execution_count": 31,
   "id": "77ef842d",
   "metadata": {},
   "outputs": [
    {
     "data": {
      "text/plain": [
       "<AxesSubplot:xlabel='NA_Sales'>"
      ]
     },
     "execution_count": 31,
     "metadata": {},
     "output_type": "execute_result"
    },
    {
     "data": {
      "image/png": "[encoded data removed]",
      "text/plain": [
       "<Figure size 432x288 with 1 Axes>"
      ]
     },
     "metadata": {
      "needs_background": "light"
     },
     "output_type": "display_data"
    }
   ],
   "source": [
    "sns.boxplot(df['NA_Sales'])"
   ]
  },
  {
   "cell_type": "code",
   "execution_count": 32,
   "id": "d39f3299",
   "metadata": {},
   "outputs": [
    {
     "data": {
      "text/plain": [
       "<AxesSubplot:xlabel='EU_Sales'>"
      ]
     },
     "execution_count": 32,
     "metadata": {},
     "output_type": "execute_result"
    },
    {
     "data": {
      "image/png": "[encoded data removed]",
      "text/plain": [
       "<Figure size 432x288 with 1 Axes>"
      ]
     },
     "metadata": {
      "needs_background": "light"
     },
     "output_type": "display_data"
    }
   ],
   "source": [
    "sns.boxplot(df['EU_Sales'])"
   ]
  },
  {
   "cell_type": "code",
   "execution_count": 33,
   "id": "b66d096a",
   "metadata": {},
   "outputs": [],
   "source": [
    "df=df[df['EU_Sales']<=20]"
   ]
  },
  {
   "cell_type": "code",
   "execution_count": 34,
   "id": "a4d72b97",
   "metadata": {},
   "outputs": [
    {
     "data": {
      "text/plain": [
       "<AxesSubplot:xlabel='JP_Sales'>"
      ]
     },
     "execution_count": 34,
     "metadata": {},
     "output_type": "execute_result"
    },
    {
     "data": {
      "image/png": "[encoded data removed]",
      "text/plain": [
       "<Figure size 432x288 with 1 Axes>"
      ]
     },
     "metadata": {
      "needs_background": "light"
     },
     "output_type": "display_data"
    }
   ],
   "source": [
    "sns.boxplot(df['JP_Sales'])"
   ]
  },
  {
   "cell_type": "code",
   "execution_count": 35,
   "id": "90bd86d8",
   "metadata": {},
   "outputs": [
    {
     "data": {
      "text/plain": [
       "<AxesSubplot:xlabel='Year'>"
      ]
     },
     "execution_count": 35,
     "metadata": {},
     "output_type": "execute_result"
    },
    {
     "data": {
      "image/png": "[encoded data removed]",
      "text/plain": [
       "<Figure size 432x288 with 1 Axes>"
      ]
     },
     "metadata": {
      "needs_background": "light"
     },
     "output_type": "display_data"
    }
   ],
   "source": [
    "sns.boxplot(df['Year'])"
   ]
  },
  {
   "cell_type": "code",
   "execution_count": 71,
   "id": "b3e8e593",
   "metadata": {},
   "outputs": [],
   "source": [
    "df=df[df['Year']>=2005]"
   ]
  },
  {
   "cell_type": "code",
   "execution_count": 72,
   "id": "f21047f2",
   "metadata": {},
   "outputs": [
    {
     "data": {
      "text/plain": [
       "<AxesSubplot:xlabel='Global_Sales'>"
      ]
     },
     "execution_count": 72,
     "metadata": {},
     "output_type": "execute_result"
    },
    {
     "data": {
      "image/png": "[encoded data removed]",
      "text/plain": [
       "<Figure size 432x288 with 1 Axes>"
      ]
     },
     "metadata": {
      "needs_background": "light"
     },
     "output_type": "display_data"
    }
   ],
   "source": [
    "sns.boxplot(df['Global_Sales'])"
   ]
  },
  {
   "cell_type": "code",
   "execution_count": 73,
   "id": "21f56d3f",
   "metadata": {},
   "outputs": [
    {
     "data": {
      "text/plain": [
       "<AxesSubplot:xlabel='user_review'>"
      ]
     },
     "execution_count": 73,
     "metadata": {},
     "output_type": "execute_result"
    },
    {
     "data": {
      "image/png": "[encoded data removed]",
      "text/plain": [
       "<Figure size 720x360 with 1 Axes>"
      ]
     },
     "metadata": {
      "needs_background": "light"
     },
     "output_type": "display_data"
    }
   ],
   "source": [
    "plt.figure(figsize=(10,5))\n",
    "sns.boxplot(x='user_review', data= df)"
   ]
  },
  {
   "cell_type": "code",
   "execution_count": 74,
   "id": "3bc4629e",
   "metadata": {},
   "outputs": [],
   "source": [
    "df=df[df['Global_Sales']<40]"
   ]
  },
  {
   "cell_type": "code",
   "execution_count": 75,
   "id": "9f18f987",
   "metadata": {},
   "outputs": [
    {
     "name": "stdout",
     "output_type": "stream",
     "text": [
      "There are 2875 games in the dataset.\n",
      "There are 202 publishers in the dataset.\n",
      "There are 16 platforms in the dataset.\n",
      "There are 12 different genres in the dataset.\n"
     ]
    }
   ],
   "source": [
    "gameNames = df['name'].unique()\n",
    "publisherNames = df['Publisher'].unique()\n",
    "platformNames = df['Platform'].unique()\n",
    "genreNames = df['Genre'].unique()\n",
    "print(\"There are\",len(gameNames),\"games in the dataset.\")\n",
    "print(\"There are\",len(publisherNames),\"publishers in the dataset.\")\n",
    "print(\"There are\",len(platformNames),\"platforms in the dataset.\")\n",
    "print(\"There are\",len(genreNames),\"different genres in the dataset.\")"
   ]
  },
  {
   "cell_type": "markdown",
   "id": "e4290054",
   "metadata": {},
   "source": [
    "## <a name='Explo' > Exploratory Data Analysis (Multi-Variable_Relationship) </a>"
   ]
  },
  {
   "cell_type": "code",
   "execution_count": 351,
   "id": "14984591",
   "metadata": {},
   "outputs": [],
   "source": [
    "# correlation between user_review and Global_Sales\n",
    "#print(df['user_review'].corr(df['Global_Sales']))"
   ]
  },
  {
   "cell_type": "code",
   "execution_count": 77,
   "id": "4ab18c5d",
   "metadata": {
    "scrolled": true
   },
   "outputs": [
    {
     "name": "stdout",
     "output_type": "stream",
     "text": [
      "['3DS' 'X360' 'PS3' 'PC' 'Wii' 'PS4' 'XOne' 'XB' 'PS2' 'GC' 'WiiU' 'PSP'\n",
      " 'DS' 'PSV' 'GBA' 'DC']\n"
     ]
    }
   ],
   "source": [
    "print(df['Platform'].unique())\n",
    "\n",
    "#df.corr() "
   ]
  },
  {
   "cell_type": "code",
   "execution_count": 78,
   "id": "5872cd22",
   "metadata": {},
   "outputs": [
    {
     "data": {
      "text/html": [
       "<div>\n",
       "<style scoped>\n",
       "    .dataframe tbody tr th:only-of-type {\n",
       "        vertical-align: middle;\n",
       "    }\n",
       "\n",
       "    .dataframe tbody tr th {\n",
       "        vertical-align: top;\n",
       "    }\n",
       "\n",
       "    .dataframe thead th {\n",
       "        text-align: right;\n",
       "    }\n",
       "</style>\n",
       "<table border=\"1\" class=\"dataframe\">\n",
       "  <thead>\n",
       "    <tr style=\"text-align: right;\">\n",
       "      <th></th>\n",
       "      <th>Platform</th>\n",
       "      <th>Genre</th>\n",
       "      <th>Global_Sales</th>\n",
       "    </tr>\n",
       "  </thead>\n",
       "  <tbody>\n",
       "    <tr>\n",
       "      <th>0</th>\n",
       "      <td>PS3</td>\n",
       "      <td>Action</td>\n",
       "      <td>814.92</td>\n",
       "    </tr>\n",
       "    <tr>\n",
       "      <th>1</th>\n",
       "      <td>X360</td>\n",
       "      <td>Shooter</td>\n",
       "      <td>769.60</td>\n",
       "    </tr>\n",
       "    <tr>\n",
       "      <th>2</th>\n",
       "      <td>X360</td>\n",
       "      <td>Action</td>\n",
       "      <td>745.07</td>\n",
       "    </tr>\n",
       "    <tr>\n",
       "      <th>3</th>\n",
       "      <td>PS3</td>\n",
       "      <td>Shooter</td>\n",
       "      <td>612.01</td>\n",
       "    </tr>\n",
       "    <tr>\n",
       "      <th>4</th>\n",
       "      <td>X360</td>\n",
       "      <td>Sports</td>\n",
       "      <td>342.50</td>\n",
       "    </tr>\n",
       "    <tr>\n",
       "      <th>5</th>\n",
       "      <td>PS3</td>\n",
       "      <td>Sports</td>\n",
       "      <td>341.13</td>\n",
       "    </tr>\n",
       "    <tr>\n",
       "      <th>6</th>\n",
       "      <td>PS2</td>\n",
       "      <td>Sports</td>\n",
       "      <td>321.54</td>\n",
       "    </tr>\n",
       "    <tr>\n",
       "      <th>7</th>\n",
       "      <td>Wii</td>\n",
       "      <td>Action</td>\n",
       "      <td>263.08</td>\n",
       "    </tr>\n",
       "    <tr>\n",
       "      <th>8</th>\n",
       "      <td>Wii</td>\n",
       "      <td>Misc</td>\n",
       "      <td>250.10</td>\n",
       "    </tr>\n",
       "    <tr>\n",
       "      <th>9</th>\n",
       "      <td>PS2</td>\n",
       "      <td>Action</td>\n",
       "      <td>247.74</td>\n",
       "    </tr>\n",
       "    <tr>\n",
       "      <th>10</th>\n",
       "      <td>Wii</td>\n",
       "      <td>Sports</td>\n",
       "      <td>227.95</td>\n",
       "    </tr>\n",
       "    <tr>\n",
       "      <th>11</th>\n",
       "      <td>PS4</td>\n",
       "      <td>Action</td>\n",
       "      <td>193.31</td>\n",
       "    </tr>\n",
       "    <tr>\n",
       "      <th>12</th>\n",
       "      <td>DS</td>\n",
       "      <td>Action</td>\n",
       "      <td>193.14</td>\n",
       "    </tr>\n",
       "    <tr>\n",
       "      <th>13</th>\n",
       "      <td>X360</td>\n",
       "      <td>Role-Playing</td>\n",
       "      <td>189.67</td>\n",
       "    </tr>\n",
       "  </tbody>\n",
       "</table>\n",
       "</div>"
      ],
      "text/plain": [
       "   Platform         Genre  Global_Sales\n",
       "0       PS3        Action        814.92\n",
       "1      X360       Shooter        769.60\n",
       "2      X360        Action        745.07\n",
       "3       PS3       Shooter        612.01\n",
       "4      X360        Sports        342.50\n",
       "5       PS3        Sports        341.13\n",
       "6       PS2        Sports        321.54\n",
       "7       Wii        Action        263.08\n",
       "8       Wii          Misc        250.10\n",
       "9       PS2        Action        247.74\n",
       "10      Wii        Sports        227.95\n",
       "11      PS4        Action        193.31\n",
       "12       DS        Action        193.14\n",
       "13     X360  Role-Playing        189.67"
      ]
     },
     "execution_count": 78,
     "metadata": {},
     "output_type": "execute_result"
    }
   ],
   "source": [
    "top10G= df.groupby([\"Platform\", \"Genre\"])[[\"Global_Sales\"]].sum().sort_values(by=['Global_Sales'],ascending=[False]).reset_index()\n",
    "top_10G = top10G.head(14)\n",
    "top_10G"
   ]
  },
  {
   "cell_type": "code",
   "execution_count": 362,
   "id": "c0eb5344",
   "metadata": {},
   "outputs": [
    {
     "data": {
      "image/png": "[encoded data removed]",
      "text/plain": [
       "<Figure size 1000x500 with 1 Axes>"
      ]
     },
     "metadata": {
      "needs_background": "light"
     },
     "output_type": "display_data"
    }
   ],
   "source": [
    "plt.figure(figsize= (10,5), dpi = 100)\n",
    "sns.barplot(x='Platform' , y= 'Global_Sales', data = top_10G ,hue= 'Genre');\n",
    "plt.legend(bbox_to_anchor=(0.81,1.01))\n",
    "#,palette=[\"C0\", \"C1\", \"C2\", \"k\"] );\n",
    "sns.color_palette(\"Set2\");\n",
    "plt.title('Global sales made per platform in the year between 2005 and 2016')\n",
    "plt.savefig(\"GpPlatform.png\")"
   ]
  },
  {
   "cell_type": "code",
   "execution_count": null,
   "id": "c89e573f",
   "metadata": {},
   "outputs": [],
   "source": []
  },
  {
   "cell_type": "code",
   "execution_count": 193,
   "id": "1014873c",
   "metadata": {},
   "outputs": [],
   "source": [
    "#top10EU= df.groupby([\"Platform\", \"Genre\"])[[\"EU_Sales\"]].sum().sort_values(by=['EU_Sales'],ascending=[False]).reset_index()\n",
    "#top_10EU = top10EU.head(14)\n",
    "#top_10EU"
   ]
  },
  {
   "cell_type": "code",
   "execution_count": 192,
   "id": "1e34a917",
   "metadata": {},
   "outputs": [],
   "source": [
    "#sns.barplot(x='Platform' , y= 'EU_Sales', data = top_10EU ,hue= 'Genre');"
   ]
  },
  {
   "cell_type": "code",
   "execution_count": 188,
   "id": "bd12aacf",
   "metadata": {
    "scrolled": true
   },
   "outputs": [],
   "source": [
    "#top10O= df.groupby([\"Platform\", \"user_review\"])[[\"EU_Sales\"]].sum().sort_values(by=['user_review'],ascending=[False]).reset_index()\n",
    "#top_10O = top10O.head(12)\n",
    "#top_10O"
   ]
  },
  {
   "cell_type": "code",
   "execution_count": 189,
   "id": "108ea75b",
   "metadata": {},
   "outputs": [],
   "source": [
    "#top10NA= df.groupby([\"Platform\", \"Genre\"])[[\"NA_Sales\"]].sum().sort_values(by=['NA_Sales'],ascending=[False]).reset_index()\n",
    "#top_10NA = top10NA.head(13)\n",
    "#top_10NA"
   ]
  },
  {
   "cell_type": "code",
   "execution_count": 171,
   "id": "29022a3a",
   "metadata": {},
   "outputs": [],
   "source": [
    "#sns.barplot(x='Platform' , y= 'NA_Sales', data = top_10NA ,hue= 'Genre');"
   ]
  },
  {
   "cell_type": "code",
   "execution_count": 172,
   "id": "e56689d8",
   "metadata": {},
   "outputs": [],
   "source": [
    "#top10O= df.groupby([\"Platform\", \"user_review\"])[[\"NA_Sales\"]].sum().sort_values(by=['user_review'],ascending=[False]).reset_index()\n",
    "#top_10O = top10O.head(12)\n",
    "#top_10O"
   ]
  },
  {
   "cell_type": "code",
   "execution_count": 173,
   "id": "54fe8cd9",
   "metadata": {},
   "outputs": [],
   "source": [
    "#top10JP= df.groupby([\"Platform\", \"Genre\"])[[\"JP_Sales\"]].sum().sort_values(by=['JP_Sales'],ascending=[False]).reset_index()\n",
    "#top_10JP = top10JP.head(10)\n",
    "#top_10JP"
   ]
  },
  {
   "cell_type": "code",
   "execution_count": 174,
   "id": "94be76ac",
   "metadata": {},
   "outputs": [],
   "source": [
    "#top10O= df.groupby([\"Platform\", \"user_review\"])[[\"JP_Sales\"]].sum().sort_values(by=['user_review'],ascending=[False]).reset_index()\n",
    "#top_10O = top10O.head(12)\n",
    "#top_10O"
   ]
  },
  {
   "cell_type": "code",
   "execution_count": 175,
   "id": "579e0858",
   "metadata": {},
   "outputs": [],
   "source": [
    "#sns.barplot(x='Platform' , y= 'JP_Sales', data = top_10JP ,hue= 'Genre');"
   ]
  },
  {
   "cell_type": "code",
   "execution_count": 176,
   "id": "fce6d14f",
   "metadata": {},
   "outputs": [],
   "source": [
    "#top10O= df.groupby([\"Platform\", \"Genre\"])[[\"Other_Sales\"]].sum().sort_values(by=['Other_Sales'],ascending=[False]).reset_index()\n",
    "#top_10O = top10O.head(12)\n",
    "#top_10O"
   ]
  },
  {
   "cell_type": "code",
   "execution_count": 177,
   "id": "331595ab",
   "metadata": {},
   "outputs": [],
   "source": [
    "#sns.barplot(x='Platform' , y= 'Other_Sales', data = top_10O,hue= 'Genre');"
   ]
  },
  {
   "cell_type": "code",
   "execution_count": 111,
   "id": "74850b2f",
   "metadata": {},
   "outputs": [],
   "source": [
    "def Year_plots(title, sales, color):\n",
    "  plt.figure(figsize = (7,5), dpi= 100)\n",
    "  plt.title(title)\n",
    "  plt.xticks(rotation = 90)\n",
    "  sns.lineplot(x = 'Year', \n",
    "              y = sales,\n",
    "              color = color, \n",
    "              data = df)"
   ]
  },
  {
   "cell_type": "code",
   "execution_count": 179,
   "id": "b3cf008c",
   "metadata": {},
   "outputs": [
    {
     "name": "stdout",
     "output_type": "stream",
     "text": [
      "['3DS', 'DS', 'PC', 'PS2', 'PS3', 'PS4', 'PSP', 'Wii', 'X360']\n"
     ]
    }
   ],
   "source": [
    "# Which platforms have sold video games of all the genre types?\n",
    "genre_table = pd.pivot_table(df, \n",
    "                             index = 'Platform', \n",
    "                             columns = ['Genre'],\n",
    "                             values= ['NA_Sales','JP_Sales', 'EU_Sales', 'Other_Sales', 'Global_Sales'], \n",
    "                             aggfunc= np.sum)\n",
    "genre_table.dropna(inplace = True)\n",
    "print(list(genre_table.index))"
   ]
  },
  {
   "cell_type": "code",
   "execution_count": 219,
   "id": "088abae2",
   "metadata": {
    "scrolled": true
   },
   "outputs": [],
   "source": [
    "year_2016_df = df[df['Year'] == 2016]"
   ]
  },
  {
   "cell_type": "code",
   "execution_count": 350,
   "id": "9ad14bd8",
   "metadata": {},
   "outputs": [
    {
     "data": {
      "image/png": "[encoded data removed]",
      "text/plain": [
       "<Figure size 700x500 with 1 Axes>"
      ]
     },
     "metadata": {
      "needs_background": "light"
     },
     "output_type": "display_data"
    },
    {
     "data": {
      "image/png": "[encoded data removed]",
      "text/plain": [
       "<Figure size 700x500 with 1 Axes>"
      ]
     },
     "metadata": {
      "needs_background": "light"
     },
     "output_type": "display_data"
    }
   ],
   "source": [
    "plt.figure(figsize= (7,5), dpi = 100)\n",
    "plt.title('Global sales made per genre in the year 2016')\n",
    "plt.xticks(rotation = 60)\n",
    "sns.barplot(x = 'Genre', \n",
    "            y = 'Global_Sales', \n",
    "            data = year_2016_df);\n",
    "plt.figure(figsize= (7,5), dpi = 100)\n",
    "plt.title('Global sales made per platform in the year 2016')\n",
    "plt.xticks(rotation = 90)\n",
    "sns.barplot(x = 'Platform', \n",
    "            y = 'Global_Sales', \n",
    "            data = year_2016_df);"
   ]
  },
  {
   "cell_type": "code",
   "execution_count": 364,
   "id": "529ca415",
   "metadata": {},
   "outputs": [
    {
     "data": {
      "image/png": "[encoded data removed]",
      "text/plain": [
       "<Figure size 1000x500 with 1 Axes>"
      ]
     },
     "metadata": {
      "needs_background": "light"
     },
     "output_type": "display_data"
    }
   ],
   "source": [
    "plt.figure(figsize= (10,5), dpi = 100)\n",
    "sns.barplot(x='Platform' , y= 'Global_Sales', data = year_2016_df.head(50) ,hue= 'Genre');\n",
    "plt.legend(bbox_to_anchor=(0.81,1.01))\n",
    "plt.title('Global sales made per platform with genre types in the year 2016')\n",
    "#,palette=[\"C0\", \"C1\", \"C2\", \"k\"] );\n",
    "sns.color_palette(\"Set2\");\n",
    "plt.savefig(\"GpPlatform2016.png\")"
   ]
  },
  {
   "cell_type": "code",
   "execution_count": 198,
   "id": "1e6c0e6a",
   "metadata": {},
   "outputs": [],
   "source": [
    "PS4_S= df[df['Platform']== 'PS4']"
   ]
  },
  {
   "cell_type": "code",
   "execution_count": 365,
   "id": "749bc185",
   "metadata": {},
   "outputs": [
    {
     "data": {
      "image/png": "[encoded data removed]",
      "text/plain": [
       "<Figure size 700x500 with 1 Axes>"
      ]
     },
     "metadata": {
      "needs_background": "light"
     },
     "output_type": "display_data"
    }
   ],
   "source": [
    "plt.figure(figsize= (7,5), dpi = 100)\n",
    "plt.title('GLobal sales per genre in the PS4')\n",
    "plt.xticks(rotation = 90)\n",
    "sns.barplot(x = 'Genre', \n",
    "            y = 'Global_Sales', \n",
    "            data = PS4_S);\n",
    "plt.savefig(\"GpPS4.png\")"
   ]
  },
  {
   "cell_type": "code",
   "execution_count": 353,
   "id": "adb507b6",
   "metadata": {},
   "outputs": [],
   "source": [
    "#not convenient result\n"
   ]
  },
  {
   "cell_type": "code",
   "execution_count": 207,
   "id": "a0035940",
   "metadata": {},
   "outputs": [],
   "source": [
    "#top10JP= df.groupby([\"Platform\", \"meta_score\"])[[\"Global_Sales\"]].sum().sort_values(by=['meta_score'],ascending=[False]).reset_index()\n",
    "#top_10JP = top10JP.head(10)\n",
    "#top_10JP"
   ]
  },
  {
   "cell_type": "code",
   "execution_count": 208,
   "id": "b4246943",
   "metadata": {
    "scrolled": true
   },
   "outputs": [
    {
     "data": {
      "image/png": "[encoded data removed]",
      "text/plain": [
       "<Figure size 700x500 with 1 Axes>"
      ]
     },
     "metadata": {
      "needs_background": "light"
     },
     "output_type": "display_data"
    }
   ],
   "source": [
    "#هذي منطقيه واستفدنا منها من الدمج \n",
    "\n",
    "plt.figure(figsize= (7,5), dpi = 100)\n",
    "plt.title('Meta score per platform in the year 2016')\n",
    "plt.xticks(rotation = 80)\n",
    "sns.barplot(x = 'Platform', \n",
    "            y = 'meta_score', \n",
    "            data = year_2016_df);"
   ]
  },
  {
   "cell_type": "code",
   "execution_count": 216,
   "id": "aed12a49",
   "metadata": {},
   "outputs": [],
   "source": [
    "#ps4_data = df[df['Platform'] == 'PS4']"
   ]
  },
  {
   "cell_type": "code",
   "execution_count": 366,
   "id": "a6ea0f13",
   "metadata": {},
   "outputs": [
    {
     "data": {
      "text/plain": [
       "(12737, 15)"
      ]
     },
     "execution_count": 366,
     "metadata": {},
     "output_type": "execute_result"
    }
   ],
   "source": [
    "df.shape"
   ]
  },
  {
   "cell_type": "code",
   "execution_count": 215,
   "id": "e211e899",
   "metadata": {},
   "outputs": [],
   "source": [
    "#ps3_yearwise_revenue = yearwise_netrev('PS4')\n"
   ]
  },
  {
   "cell_type": "markdown",
   "id": "3abb0b8d",
   "metadata": {},
   "source": [
    "## <a name='Ques' > Questions & Insights </a>"
   ]
  },
  {
   "cell_type": "markdown",
   "id": "035c9b8a",
   "metadata": {},
   "source": [
    "what are the top platform for different regions?"
   ]
  },
  {
   "cell_type": "markdown",
   "id": "ba8ae354",
   "metadata": {},
   "source": [
    "What are the top 5 Platform making the most sales globally?"
   ]
  },
  {
   "cell_type": "markdown",
   "id": "c6df912a",
   "metadata": {},
   "source": [
    "Which Platform has the higest sales globally ?"
   ]
  },
  {
   "cell_type": "markdown",
   "id": "a165edf1",
   "metadata": {},
   "source": [
    "Which genre has the higest sales globally ?"
   ]
  },
  {
   "cell_type": "code",
   "execution_count": 91,
   "id": "c6506440",
   "metadata": {},
   "outputs": [],
   "source": [
    "# the number of all platform in datasets"
   ]
  },
  {
   "cell_type": "code",
   "execution_count": 217,
   "id": "80c4c6d0",
   "metadata": {
    "scrolled": true
   },
   "outputs": [],
   "source": [
    "#df['Platform'].value_counts().to_dict().keys()"
   ]
  },
  {
   "cell_type": "code",
   "execution_count": null,
   "id": "f6e4ef1c",
   "metadata": {},
   "outputs": [],
   "source": []
  },
  {
   "cell_type": "markdown",
   "id": "a2f756c8",
   "metadata": {},
   "source": [
    "**There are total of 16 platforms let's take a look at the top five platforms"
   ]
  },
  {
   "cell_type": "markdown",
   "id": "5b96ba0e",
   "metadata": {},
   "source": [
    "**What are the top genre for different regions?"
   ]
  },
  {
   "cell_type": "code",
   "execution_count": 278,
   "id": "7cb30cf3",
   "metadata": {},
   "outputs": [],
   "source": [
    "platforms = list(df['Platform'].value_counts()[:5].to_dict().keys())\n",
    "sales_cols = ['NA_Sales', 'EU_Sales', 'JP_Sales', 'Other_Sales']\n",
    "global_sales = []\n",
    "na_sales = []\n",
    "eu_sales = []\n",
    "jp_sales = []\n",
    "other_sales = []\n",
    "for platform in platforms:\n",
    "  global_sales.append(df[df['Platform'] == platform]['Global_Sales'].sum())\n",
    "  na_sales.append(df[df['Platform'] == platform]['NA_Sales'].sum())\n",
    "  eu_sales.append(df[df['Platform'] == platform]['EU_Sales'].sum())\n",
    "  jp_sales.append(df[df['Platform'] == platform]['JP_Sales'].sum())\n",
    "  other_sales.append(df[df['Platform'] == platform]['Other_Sales'].sum())"
   ]
  },
  {
   "cell_type": "markdown",
   "id": "43e4cd26",
   "metadata": {},
   "source": [
    "**Let's plot some graphs to know the sales figures for the top five platform"
   ]
  },
  {
   "cell_type": "code",
   "execution_count": 279,
   "id": "e1e988f1",
   "metadata": {},
   "outputs": [],
   "source": [
    "explode = [0.1,0.1,0.1,0.1,0.1]\n",
    "colors = ['lightseagreen', 'mediumpurple', 'aquamarine', 'lawngreen', 'mediumorchid']\n",
    "def platform_pie(title, sales):\n",
    "  plt.title(title)\n",
    "  plt.pie(sales, \n",
    "          labels = platforms,\n",
    "          wedgeprops=dict(width=0.2),\n",
    "          shadow = True,\n",
    "          colors = colors, \n",
    "          explode = explode, \n",
    "          startangle =80, \n",
    "          autopct='%1.1f%%');"
   ]
  },
  {
   "cell_type": "code",
   "execution_count": 280,
   "id": "ac79f8a2",
   "metadata": {
    "scrolled": true
   },
   "outputs": [
    {
     "data": {
      "image/png": "[encoded data removed]",
      "text/plain": [
       "<Figure size 1500x1000 with 4 Axes>"
      ]
     },
     "metadata": {},
     "output_type": "display_data"
    }
   ],
   "source": [
    "plt.figure(figsize= (15,10), dpi = 100)\n",
    "\n",
    "plt.subplot(2,2,1)\n",
    "platform_pie('Sales in North America'.upper(), na_sales)\n",
    "\n",
    "plt.subplot(2,2,2)\n",
    "platform_pie('Sales in Europe'.upper(), eu_sales)\n",
    "\n",
    "plt.subplot(2,2,3)\n",
    "platform_pie('Sales in Japan'.upper(), jp_sales)\n",
    "\n",
    "plt.subplot(2,2,4)\n",
    "platform_pie('Sales in Other countries'.upper(), other_sales)"
   ]
  },
  {
   "cell_type": "markdown",
   "id": "2173d170",
   "metadata": {},
   "source": [
    "**What are the top 5 games currently making the most sales globally?"
   ]
  },
  {
   "cell_type": "code",
   "execution_count": 282,
   "id": "70a9692d",
   "metadata": {
    "scrolled": true
   },
   "outputs": [
    {
     "data": {
      "image/png": "[encoded data removed]",
      "text/plain": [
       "<Figure size 700x700 with 1 Axes>"
      ]
     },
     "metadata": {},
     "output_type": "display_data"
    }
   ],
   "source": [
    "plt.figure(figsize= (10,10), dpi = 70)\n",
    "platform_pie('Global Sales from 2005 to 2016'.upper(), global_sales, )\n",
    "plt.savefig(\"Gp.png\")"
   ]
  },
  {
   "cell_type": "code",
   "execution_count": null,
   "id": "e6cd515c",
   "metadata": {},
   "outputs": [],
   "source": [
    "year_2016_df"
   ]
  },
  {
   "cell_type": "code",
   "execution_count": 257,
   "id": "1d98e099",
   "metadata": {},
   "outputs": [
    {
     "data": {
      "text/plain": [
       "<AxesSubplot:ylabel='Global_Sales'>"
      ]
     },
     "execution_count": 257,
     "metadata": {},
     "output_type": "execute_result"
    },
    {
     "data": {
      "image/png": "[encoded data removed]",
      "text/plain": [
       "<Figure size 432x288 with 1 Axes>"
      ]
     },
     "metadata": {},
     "output_type": "display_data"
    }
   ],
   "source": [
    "year_2016_df.groupby(['Platform']).sum().plot(kind='pie', y='Global_Sales')\n"
   ]
  },
  {
   "cell_type": "code",
   "execution_count": 270,
   "id": "46e7d687",
   "metadata": {},
   "outputs": [],
   "source": [
    "platforms = list(year_2016_df['Platform'].value_counts()[:5].to_dict().keys())\n",
    "#sales_cols = ['NA_Sales', 'EU_Sales', 'JP_Sales', 'Global_Sales']\n",
    "global_sales = []\n",
    "for platform in platforms:\n",
    "  global_sales.append(year_2016_df[year_2016_df['Platform'] == platform]['Global_Sales'].sum())"
   ]
  },
  {
   "cell_type": "code",
   "execution_count": 271,
   "id": "9f1b85b9",
   "metadata": {},
   "outputs": [
    {
     "data": {
      "image/png": "[encoded data removed]",
      "text/plain": [
       "<Figure size 700x700 with 1 Axes>"
      ]
     },
     "metadata": {},
     "output_type": "display_data"
    }
   ],
   "source": [
    "plt.figure(figsize= (10,10), dpi = 70)\n",
    "platform_pie('Global Sales in 2016'.upper(), global_sales, )\n",
    "plt.savefig(\"Gp2016.png\")"
   ]
  },
  {
   "cell_type": "code",
   "execution_count": 104,
   "id": "a4b7b6b5",
   "metadata": {},
   "outputs": [
    {
     "data": {
      "image/png": "[encoded data removed]",
      "text/plain": [
       "<Figure size 700x350 with 1 Axes>"
      ]
     },
     "metadata": {
      "needs_background": "light"
     },
     "output_type": "display_data"
    }
   ],
   "source": [
    "plt.figure(figsize=(10,5), dpi = 70)\n",
    "plt.xticks(rotation = 90)\n",
    "sns.countplot(x = 'Genre', data = df);"
   ]
  },
  {
   "cell_type": "code",
   "execution_count": 241,
   "id": "f0835af5",
   "metadata": {},
   "outputs": [
    {
     "data": {
      "image/png": "[encoded data removed]",
      "text/plain": [
       "<Figure size 700x350 with 1 Axes>"
      ]
     },
     "metadata": {
      "needs_background": "light"
     },
     "output_type": "display_data"
    }
   ],
   "source": [
    "plt.figure(figsize=(10,5), dpi = 70)\n",
    "plt.xticks(rotation = 90)\n",
    "sns.countplot(x = 'Genre', data = year_2016_df);"
   ]
  },
  {
   "cell_type": "markdown",
   "id": "70a5ef39",
   "metadata": {},
   "source": [
    "## <a name='Conc' > Conculsion  </a>"
   ]
  },
  {
   "cell_type": "markdown",
   "id": "f3a6c439",
   "metadata": {},
   "source": [
    "Based on the results of the data analysis on global sales we noticed as a video game development company the top 5 video game platforms PS3, X360, PS2, Wii and PS4.\n",
    "Accordingly, we selected from the five platforms the development of the PS4 platform based on the results of the 2016 data analysis specifically in shooter genre. \n"
   ]
  },
  {
   "cell_type": "markdown",
   "id": "de2d59d2",
   "metadata": {},
   "source": [
    "## Thanks "
   ]
  }
 ],
 "metadata": {
  "kernelspec": {
   "display_name": "Python 3",
   "language": "python",
   "name": "python3"
  },
  "language_info": {
   "codemirror_mode": {
    "name": "ipython",
    "version": 3
   },
   "file_extension": ".py",
   "mimetype": "text/x-python",
   "name": "python",
   "nbconvert_exporter": "python",
   "pygments_lexer": "ipython3",
   "version": "3.8.8"
  }
 },
 "nbformat": 4,
 "nbformat_minor": 5
}
